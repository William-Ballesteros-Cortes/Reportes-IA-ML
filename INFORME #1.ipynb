{
 "cells": [
  {
   "cell_type": "markdown",
   "id": "cb1bd3fa",
   "metadata": {},
   "source": [
    "# Informe #1 sobre Machine Learning:\n",
    "## Redes neuronales\n",
    "William A. Ballesteros, Lina Duque, Esteban Lopez"
   ]
  },
  {
   "cell_type": "code",
   "execution_count": 1,
   "id": "e9027928",
   "metadata": {},
   "outputs": [],
   "source": [
    "import numpy as np\n",
    "import pandas as pd\n",
    "import sklearn\n",
    "import warnings"
   ]
  },
  {
   "cell_type": "markdown",
   "id": "408e8525",
   "metadata": {},
   "source": [
    "Cargamos el archivo \"games.csv\""
   ]
  },
  {
   "cell_type": "code",
   "execution_count": 2,
   "id": "0a0fb0a6",
   "metadata": {},
   "outputs": [],
   "source": [
    "urlToRead = \"https://github.com/William-Ballesteros-Cortes/\"\"Reportes-IA-ML/blob/informe1/games.csv?raw=true\"\n",
    "data = pd.read_csv(urlToRead, sep = \";\")\n",
    "data.columns = [\"gameDuration\",\n",
    "                \"firstBlood\", \n",
    "                \"firstTower\", \n",
    "                \"firstInhibitor\", \n",
    "                \"firstBaron\", \n",
    "                \"firstDragon\", \n",
    "                \"firstRiftHerald\", \n",
    "                \"t1_towerKills\", \n",
    "                \"t1_inhibitorKills\", \n",
    "                \"t1_baronKills\", \n",
    "                \"t1_dragonKills\", \n",
    "                \"t1_riftHeraldKills\", \n",
    "                \"t2_towerKills\",\n",
    "                \"t2_inhibitorKills\",\n",
    "                \"t2_baronKills\",\n",
    "                \"t2_dragonKills\",\n",
    "                \"t2_riftHeraldKills\",\n",
    "                \"winner\"]"
   ]
  },
  {
   "cell_type": "code",
   "execution_count": 3,
   "id": "dcf78511",
   "metadata": {},
   "outputs": [
    {
     "name": "stdout",
     "output_type": "stream",
     "text": [
      "<class 'pandas.core.frame.DataFrame'>\n",
      "RangeIndex: 50286 entries, 0 to 50285\n",
      "Data columns (total 18 columns):\n",
      " #   Column              Non-Null Count  Dtype\n",
      "---  ------              --------------  -----\n",
      " 0   gameDuration        50286 non-null  int64\n",
      " 1   firstBlood          50286 non-null  int64\n",
      " 2   firstTower          50286 non-null  int64\n",
      " 3   firstInhibitor      50286 non-null  int64\n",
      " 4   firstBaron          50286 non-null  int64\n",
      " 5   firstDragon         50286 non-null  int64\n",
      " 6   firstRiftHerald     50286 non-null  int64\n",
      " 7   t1_towerKills       50286 non-null  int64\n",
      " 8   t1_inhibitorKills   50286 non-null  int64\n",
      " 9   t1_baronKills       50286 non-null  int64\n",
      " 10  t1_dragonKills      50286 non-null  int64\n",
      " 11  t1_riftHeraldKills  50286 non-null  int64\n",
      " 12  t2_towerKills       50286 non-null  int64\n",
      " 13  t2_inhibitorKills   50286 non-null  int64\n",
      " 14  t2_baronKills       50286 non-null  int64\n",
      " 15  t2_dragonKills      50286 non-null  int64\n",
      " 16  t2_riftHeraldKills  50286 non-null  int64\n",
      " 17  winner              50286 non-null  int64\n",
      "dtypes: int64(18)\n",
      "memory usage: 6.9 MB\n"
     ]
    }
   ],
   "source": [
    "data.info()"
   ]
  },
  {
   "cell_type": "code",
   "execution_count": 4,
   "id": "5cf96abc",
   "metadata": {},
   "outputs": [
    {
     "data": {
      "text/html": [
       "<div>\n",
       "<style scoped>\n",
       "    .dataframe tbody tr th:only-of-type {\n",
       "        vertical-align: middle;\n",
       "    }\n",
       "\n",
       "    .dataframe tbody tr th {\n",
       "        vertical-align: top;\n",
       "    }\n",
       "\n",
       "    .dataframe thead th {\n",
       "        text-align: right;\n",
       "    }\n",
       "</style>\n",
       "<table border=\"1\" class=\"dataframe\">\n",
       "  <thead>\n",
       "    <tr style=\"text-align: right;\">\n",
       "      <th></th>\n",
       "      <th>gameDuration</th>\n",
       "      <th>firstBlood</th>\n",
       "      <th>firstTower</th>\n",
       "      <th>firstInhibitor</th>\n",
       "      <th>firstBaron</th>\n",
       "      <th>firstDragon</th>\n",
       "      <th>firstRiftHerald</th>\n",
       "      <th>t1_towerKills</th>\n",
       "      <th>t1_inhibitorKills</th>\n",
       "      <th>t1_baronKills</th>\n",
       "      <th>t1_dragonKills</th>\n",
       "      <th>t1_riftHeraldKills</th>\n",
       "      <th>t2_towerKills</th>\n",
       "      <th>t2_inhibitorKills</th>\n",
       "      <th>t2_baronKills</th>\n",
       "      <th>t2_dragonKills</th>\n",
       "      <th>t2_riftHeraldKills</th>\n",
       "      <th>winner</th>\n",
       "    </tr>\n",
       "  </thead>\n",
       "  <tbody>\n",
       "    <tr>\n",
       "      <th>count</th>\n",
       "      <td>50286.000000</td>\n",
       "      <td>50286.000000</td>\n",
       "      <td>50286.000000</td>\n",
       "      <td>50286.000000</td>\n",
       "      <td>50286.000000</td>\n",
       "      <td>50286.000000</td>\n",
       "      <td>50286.000000</td>\n",
       "      <td>50286.000000</td>\n",
       "      <td>50286.000000</td>\n",
       "      <td>50286.000000</td>\n",
       "      <td>50286.000000</td>\n",
       "      <td>50286.000000</td>\n",
       "      <td>50286.000000</td>\n",
       "      <td>50286.000000</td>\n",
       "      <td>50286.000000</td>\n",
       "      <td>50286.000000</td>\n",
       "      <td>50286.000000</td>\n",
       "      <td>50286.000000</td>\n",
       "    </tr>\n",
       "    <tr>\n",
       "      <th>mean</th>\n",
       "      <td>1871.386032</td>\n",
       "      <td>1.487233</td>\n",
       "      <td>1.485125</td>\n",
       "      <td>1.339578</td>\n",
       "      <td>0.948693</td>\n",
       "      <td>1.477270</td>\n",
       "      <td>0.749195</td>\n",
       "      <td>5.835163</td>\n",
       "      <td>1.041781</td>\n",
       "      <td>0.381200</td>\n",
       "      <td>1.420356</td>\n",
       "      <td>0.257487</td>\n",
       "      <td>5.681999</td>\n",
       "      <td>1.008611</td>\n",
       "      <td>0.424472</td>\n",
       "      <td>1.437975</td>\n",
       "      <td>0.245854</td>\n",
       "      <td>1.493776</td>\n",
       "    </tr>\n",
       "    <tr>\n",
       "      <th>std</th>\n",
       "      <td>450.876052</td>\n",
       "      <td>0.499842</td>\n",
       "      <td>0.500499</td>\n",
       "      <td>0.652960</td>\n",
       "      <td>0.838988</td>\n",
       "      <td>0.530346</td>\n",
       "      <td>0.824393</td>\n",
       "      <td>3.740575</td>\n",
       "      <td>1.269064</td>\n",
       "      <td>0.588001</td>\n",
       "      <td>1.201740</td>\n",
       "      <td>0.437254</td>\n",
       "      <td>3.809336</td>\n",
       "      <td>1.261867</td>\n",
       "      <td>0.617672</td>\n",
       "      <td>1.219412</td>\n",
       "      <td>0.430597</td>\n",
       "      <td>0.499966</td>\n",
       "    </tr>\n",
       "    <tr>\n",
       "      <th>min</th>\n",
       "      <td>610.000000</td>\n",
       "      <td>1.000000</td>\n",
       "      <td>0.000000</td>\n",
       "      <td>0.000000</td>\n",
       "      <td>0.000000</td>\n",
       "      <td>0.000000</td>\n",
       "      <td>0.000000</td>\n",
       "      <td>0.000000</td>\n",
       "      <td>0.000000</td>\n",
       "      <td>0.000000</td>\n",
       "      <td>0.000000</td>\n",
       "      <td>0.000000</td>\n",
       "      <td>0.000000</td>\n",
       "      <td>0.000000</td>\n",
       "      <td>0.000000</td>\n",
       "      <td>0.000000</td>\n",
       "      <td>0.000000</td>\n",
       "      <td>1.000000</td>\n",
       "    </tr>\n",
       "    <tr>\n",
       "      <th>25%</th>\n",
       "      <td>1554.000000</td>\n",
       "      <td>1.000000</td>\n",
       "      <td>1.000000</td>\n",
       "      <td>1.000000</td>\n",
       "      <td>0.000000</td>\n",
       "      <td>1.000000</td>\n",
       "      <td>0.000000</td>\n",
       "      <td>2.000000</td>\n",
       "      <td>0.000000</td>\n",
       "      <td>0.000000</td>\n",
       "      <td>0.000000</td>\n",
       "      <td>0.000000</td>\n",
       "      <td>2.000000</td>\n",
       "      <td>0.000000</td>\n",
       "      <td>0.000000</td>\n",
       "      <td>0.000000</td>\n",
       "      <td>0.000000</td>\n",
       "      <td>1.000000</td>\n",
       "    </tr>\n",
       "    <tr>\n",
       "      <th>50%</th>\n",
       "      <td>1846.000000</td>\n",
       "      <td>1.000000</td>\n",
       "      <td>1.000000</td>\n",
       "      <td>1.000000</td>\n",
       "      <td>1.000000</td>\n",
       "      <td>1.000000</td>\n",
       "      <td>1.000000</td>\n",
       "      <td>6.000000</td>\n",
       "      <td>1.000000</td>\n",
       "      <td>0.000000</td>\n",
       "      <td>1.000000</td>\n",
       "      <td>0.000000</td>\n",
       "      <td>6.000000</td>\n",
       "      <td>0.000000</td>\n",
       "      <td>0.000000</td>\n",
       "      <td>1.000000</td>\n",
       "      <td>0.000000</td>\n",
       "      <td>1.000000</td>\n",
       "    </tr>\n",
       "    <tr>\n",
       "      <th>75%</th>\n",
       "      <td>2156.750000</td>\n",
       "      <td>2.000000</td>\n",
       "      <td>2.000000</td>\n",
       "      <td>2.000000</td>\n",
       "      <td>2.000000</td>\n",
       "      <td>2.000000</td>\n",
       "      <td>1.000000</td>\n",
       "      <td>9.000000</td>\n",
       "      <td>2.000000</td>\n",
       "      <td>1.000000</td>\n",
       "      <td>2.000000</td>\n",
       "      <td>1.000000</td>\n",
       "      <td>9.000000</td>\n",
       "      <td>2.000000</td>\n",
       "      <td>1.000000</td>\n",
       "      <td>2.000000</td>\n",
       "      <td>0.000000</td>\n",
       "      <td>2.000000</td>\n",
       "    </tr>\n",
       "    <tr>\n",
       "      <th>max</th>\n",
       "      <td>4728.000000</td>\n",
       "      <td>2.000000</td>\n",
       "      <td>2.000000</td>\n",
       "      <td>2.000000</td>\n",
       "      <td>2.000000</td>\n",
       "      <td>2.000000</td>\n",
       "      <td>2.000000</td>\n",
       "      <td>11.000000</td>\n",
       "      <td>10.000000</td>\n",
       "      <td>5.000000</td>\n",
       "      <td>6.000000</td>\n",
       "      <td>1.000000</td>\n",
       "      <td>11.000000</td>\n",
       "      <td>10.000000</td>\n",
       "      <td>4.000000</td>\n",
       "      <td>6.000000</td>\n",
       "      <td>1.000000</td>\n",
       "      <td>2.000000</td>\n",
       "    </tr>\n",
       "  </tbody>\n",
       "</table>\n",
       "</div>"
      ],
      "text/plain": [
       "       gameDuration    firstBlood    firstTower  firstInhibitor    firstBaron  \\\n",
       "count  50286.000000  50286.000000  50286.000000    50286.000000  50286.000000   \n",
       "mean    1871.386032      1.487233      1.485125        1.339578      0.948693   \n",
       "std      450.876052      0.499842      0.500499        0.652960      0.838988   \n",
       "min      610.000000      1.000000      0.000000        0.000000      0.000000   \n",
       "25%     1554.000000      1.000000      1.000000        1.000000      0.000000   \n",
       "50%     1846.000000      1.000000      1.000000        1.000000      1.000000   \n",
       "75%     2156.750000      2.000000      2.000000        2.000000      2.000000   \n",
       "max     4728.000000      2.000000      2.000000        2.000000      2.000000   \n",
       "\n",
       "        firstDragon  firstRiftHerald  t1_towerKills  t1_inhibitorKills  \\\n",
       "count  50286.000000     50286.000000   50286.000000       50286.000000   \n",
       "mean       1.477270         0.749195       5.835163           1.041781   \n",
       "std        0.530346         0.824393       3.740575           1.269064   \n",
       "min        0.000000         0.000000       0.000000           0.000000   \n",
       "25%        1.000000         0.000000       2.000000           0.000000   \n",
       "50%        1.000000         1.000000       6.000000           1.000000   \n",
       "75%        2.000000         1.000000       9.000000           2.000000   \n",
       "max        2.000000         2.000000      11.000000          10.000000   \n",
       "\n",
       "       t1_baronKills  t1_dragonKills  t1_riftHeraldKills  t2_towerKills  \\\n",
       "count   50286.000000    50286.000000        50286.000000   50286.000000   \n",
       "mean        0.381200        1.420356            0.257487       5.681999   \n",
       "std         0.588001        1.201740            0.437254       3.809336   \n",
       "min         0.000000        0.000000            0.000000       0.000000   \n",
       "25%         0.000000        0.000000            0.000000       2.000000   \n",
       "50%         0.000000        1.000000            0.000000       6.000000   \n",
       "75%         1.000000        2.000000            1.000000       9.000000   \n",
       "max         5.000000        6.000000            1.000000      11.000000   \n",
       "\n",
       "       t2_inhibitorKills  t2_baronKills  t2_dragonKills  t2_riftHeraldKills  \\\n",
       "count       50286.000000   50286.000000    50286.000000        50286.000000   \n",
       "mean            1.008611       0.424472        1.437975            0.245854   \n",
       "std             1.261867       0.617672        1.219412            0.430597   \n",
       "min             0.000000       0.000000        0.000000            0.000000   \n",
       "25%             0.000000       0.000000        0.000000            0.000000   \n",
       "50%             0.000000       0.000000        1.000000            0.000000   \n",
       "75%             2.000000       1.000000        2.000000            0.000000   \n",
       "max            10.000000       4.000000        6.000000            1.000000   \n",
       "\n",
       "             winner  \n",
       "count  50286.000000  \n",
       "mean       1.493776  \n",
       "std        0.499966  \n",
       "min        1.000000  \n",
       "25%        1.000000  \n",
       "50%        1.000000  \n",
       "75%        2.000000  \n",
       "max        2.000000  "
      ]
     },
     "execution_count": 4,
     "metadata": {},
     "output_type": "execute_result"
    }
   ],
   "source": [
    "data.select_dtypes(include=['int64']).describe()"
   ]
  },
  {
   "cell_type": "markdown",
   "id": "bae03643",
   "metadata": {},
   "source": [
    "# Se separan los datos en entrenamiento y prueba"
   ]
  },
  {
   "cell_type": "code",
   "execution_count": 5,
   "id": "c29d2adf",
   "metadata": {},
   "outputs": [
    {
     "name": "stdout",
     "output_type": "stream",
     "text": [
      "50286 40228 10058\n"
     ]
    }
   ],
   "source": [
    "from sklearn.model_selection import train_test_split\n",
    "N = len(data)\n",
    "cTrain = int(N*0.8)\n",
    "cTest = N-cTrain\n",
    "print(N, cTrain, cTest)\n",
    "train_data, test_data = sklearn.model_selection.train_test_split(data, train_size = cTrain, test_size = cTest)"
   ]
  },
  {
   "cell_type": "code",
   "execution_count": 6,
   "id": "1ffcc571",
   "metadata": {},
   "outputs": [
    {
     "data": {
      "text/plain": [
       "(40228, 18)"
      ]
     },
     "execution_count": 6,
     "metadata": {},
     "output_type": "execute_result"
    }
   ],
   "source": [
    "train_data.shape"
   ]
  },
  {
   "cell_type": "code",
   "execution_count": 7,
   "id": "6098195b",
   "metadata": {},
   "outputs": [
    {
     "data": {
      "text/html": [
       "<div>\n",
       "<style scoped>\n",
       "    .dataframe tbody tr th:only-of-type {\n",
       "        vertical-align: middle;\n",
       "    }\n",
       "\n",
       "    .dataframe tbody tr th {\n",
       "        vertical-align: top;\n",
       "    }\n",
       "\n",
       "    .dataframe thead th {\n",
       "        text-align: right;\n",
       "    }\n",
       "</style>\n",
       "<table border=\"1\" class=\"dataframe\">\n",
       "  <thead>\n",
       "    <tr style=\"text-align: right;\">\n",
       "      <th></th>\n",
       "      <th>gameDuration</th>\n",
       "      <th>firstBlood</th>\n",
       "      <th>firstTower</th>\n",
       "      <th>firstInhibitor</th>\n",
       "      <th>firstBaron</th>\n",
       "      <th>firstDragon</th>\n",
       "      <th>firstRiftHerald</th>\n",
       "      <th>t1_towerKills</th>\n",
       "      <th>t1_inhibitorKills</th>\n",
       "      <th>t1_baronKills</th>\n",
       "      <th>t1_dragonKills</th>\n",
       "      <th>t1_riftHeraldKills</th>\n",
       "      <th>t2_towerKills</th>\n",
       "      <th>t2_inhibitorKills</th>\n",
       "      <th>t2_baronKills</th>\n",
       "      <th>t2_dragonKills</th>\n",
       "      <th>t2_riftHeraldKills</th>\n",
       "      <th>winner</th>\n",
       "    </tr>\n",
       "  </thead>\n",
       "  <tbody>\n",
       "    <tr>\n",
       "      <th>5901</th>\n",
       "      <td>1789</td>\n",
       "      <td>2</td>\n",
       "      <td>2</td>\n",
       "      <td>2</td>\n",
       "      <td>2</td>\n",
       "      <td>2</td>\n",
       "      <td>0</td>\n",
       "      <td>0</td>\n",
       "      <td>0</td>\n",
       "      <td>0</td>\n",
       "      <td>0</td>\n",
       "      <td>0</td>\n",
       "      <td>10</td>\n",
       "      <td>2</td>\n",
       "      <td>1</td>\n",
       "      <td>3</td>\n",
       "      <td>0</td>\n",
       "      <td>2</td>\n",
       "    </tr>\n",
       "    <tr>\n",
       "      <th>8316</th>\n",
       "      <td>2352</td>\n",
       "      <td>2</td>\n",
       "      <td>1</td>\n",
       "      <td>1</td>\n",
       "      <td>2</td>\n",
       "      <td>2</td>\n",
       "      <td>2</td>\n",
       "      <td>7</td>\n",
       "      <td>1</td>\n",
       "      <td>1</td>\n",
       "      <td>1</td>\n",
       "      <td>0</td>\n",
       "      <td>6</td>\n",
       "      <td>0</td>\n",
       "      <td>1</td>\n",
       "      <td>1</td>\n",
       "      <td>1</td>\n",
       "      <td>1</td>\n",
       "    </tr>\n",
       "    <tr>\n",
       "      <th>26706</th>\n",
       "      <td>2509</td>\n",
       "      <td>2</td>\n",
       "      <td>2</td>\n",
       "      <td>2</td>\n",
       "      <td>1</td>\n",
       "      <td>1</td>\n",
       "      <td>0</td>\n",
       "      <td>7</td>\n",
       "      <td>1</td>\n",
       "      <td>1</td>\n",
       "      <td>4</td>\n",
       "      <td>0</td>\n",
       "      <td>8</td>\n",
       "      <td>1</td>\n",
       "      <td>0</td>\n",
       "      <td>1</td>\n",
       "      <td>0</td>\n",
       "      <td>1</td>\n",
       "    </tr>\n",
       "    <tr>\n",
       "      <th>9318</th>\n",
       "      <td>1671</td>\n",
       "      <td>2</td>\n",
       "      <td>2</td>\n",
       "      <td>2</td>\n",
       "      <td>0</td>\n",
       "      <td>2</td>\n",
       "      <td>1</td>\n",
       "      <td>1</td>\n",
       "      <td>0</td>\n",
       "      <td>0</td>\n",
       "      <td>0</td>\n",
       "      <td>1</td>\n",
       "      <td>10</td>\n",
       "      <td>2</td>\n",
       "      <td>0</td>\n",
       "      <td>3</td>\n",
       "      <td>0</td>\n",
       "      <td>2</td>\n",
       "    </tr>\n",
       "    <tr>\n",
       "      <th>44724</th>\n",
       "      <td>1665</td>\n",
       "      <td>1</td>\n",
       "      <td>1</td>\n",
       "      <td>1</td>\n",
       "      <td>0</td>\n",
       "      <td>1</td>\n",
       "      <td>1</td>\n",
       "      <td>8</td>\n",
       "      <td>1</td>\n",
       "      <td>0</td>\n",
       "      <td>3</td>\n",
       "      <td>1</td>\n",
       "      <td>0</td>\n",
       "      <td>0</td>\n",
       "      <td>0</td>\n",
       "      <td>0</td>\n",
       "      <td>0</td>\n",
       "      <td>1</td>\n",
       "    </tr>\n",
       "  </tbody>\n",
       "</table>\n",
       "</div>"
      ],
      "text/plain": [
       "       gameDuration  firstBlood  firstTower  firstInhibitor  firstBaron  \\\n",
       "5901           1789           2           2               2           2   \n",
       "8316           2352           2           1               1           2   \n",
       "26706          2509           2           2               2           1   \n",
       "9318           1671           2           2               2           0   \n",
       "44724          1665           1           1               1           0   \n",
       "\n",
       "       firstDragon  firstRiftHerald  t1_towerKills  t1_inhibitorKills  \\\n",
       "5901             2                0              0                  0   \n",
       "8316             2                2              7                  1   \n",
       "26706            1                0              7                  1   \n",
       "9318             2                1              1                  0   \n",
       "44724            1                1              8                  1   \n",
       "\n",
       "       t1_baronKills  t1_dragonKills  t1_riftHeraldKills  t2_towerKills  \\\n",
       "5901               0               0                   0             10   \n",
       "8316               1               1                   0              6   \n",
       "26706              1               4                   0              8   \n",
       "9318               0               0                   1             10   \n",
       "44724              0               3                   1              0   \n",
       "\n",
       "       t2_inhibitorKills  t2_baronKills  t2_dragonKills  t2_riftHeraldKills  \\\n",
       "5901                   2              1               3                   0   \n",
       "8316                   0              1               1                   1   \n",
       "26706                  1              0               1                   0   \n",
       "9318                   2              0               3                   0   \n",
       "44724                  0              0               0                   0   \n",
       "\n",
       "       winner  \n",
       "5901        2  \n",
       "8316        1  \n",
       "26706       1  \n",
       "9318        2  \n",
       "44724       1  "
      ]
     },
     "execution_count": 7,
     "metadata": {},
     "output_type": "execute_result"
    }
   ],
   "source": [
    "train_data.head()"
   ]
  },
  {
   "cell_type": "markdown",
   "id": "3b9fc601",
   "metadata": {},
   "source": [
    "# Pipeline para atributos numéricos"
   ]
  },
  {
   "cell_type": "code",
   "execution_count": 8,
   "id": "7b574114",
   "metadata": {},
   "outputs": [],
   "source": [
    "from sklearn.pipeline import Pipeline\n",
    "from sklearn.impute import SimpleImputer\n",
    "from sklearn.preprocessing import StandardScaler\n",
    "from sklearn.preprocessing import MinMaxScaler\n",
    "\n",
    "\n",
    "#11 Atributos Numericos\n",
    "num_attributes = ['gameDuration',  \n",
    "                  't1_towerKills',\n",
    "                  't1_inhibitorKills', \n",
    "                  't1_baronKills', \n",
    "                  't1_dragonKills', \n",
    "                  't1_riftHeraldKills', \n",
    "                  't2_towerKills', \n",
    "                  't2_inhibitorKills', \n",
    "                  't2_baronKills', \n",
    "                  't2_dragonKills', \n",
    "                  't2_riftHeraldKills']\n",
    "\n",
    "num_pipeline= Pipeline([\n",
    "        (\"imputer\", SimpleImputer(strategy=\"median\")),\n",
    "        (\"scaler\", StandardScaler()) \n",
    "    \n",
    "    ])"
   ]
  },
  {
   "cell_type": "markdown",
   "id": "9bf28ae7",
   "metadata": {},
   "source": [
    "# Pipeline para atributos categóricos"
   ]
  },
  {
   "cell_type": "code",
   "execution_count": 9,
   "id": "78cab487",
   "metadata": {},
   "outputs": [],
   "source": [
    "from sklearn.preprocessing import OneHotEncoder\n",
    "from sklearn.pipeline import Pipeline\n",
    "from sklearn.impute import SimpleImputer\n",
    "\n",
    "# 6 Atributos Categóricos\n",
    "cat_attributes = ['firstBlood',\n",
    "                  'firstTower', \n",
    "                  'firstInhibitor', \n",
    "                  'firstBaron',\n",
    "                  'firstDragon', \n",
    "                  'firstRiftHerald']\n",
    "\n",
    "cat_pipeline= Pipeline([\n",
    "        (\"imputer\", SimpleImputer(strategy=\"most_frequent\")),\n",
    "        (\"cat_encoder\", OneHotEncoder(sparse=False))\n",
    "    ])"
   ]
  },
  {
   "cell_type": "markdown",
   "id": "63dd9828",
   "metadata": {},
   "source": [
    "# Se juntan los pipeline"
   ]
  },
  {
   "cell_type": "code",
   "execution_count": 10,
   "id": "fa0b1061",
   "metadata": {},
   "outputs": [],
   "source": [
    "from sklearn.compose import ColumnTransformer\n",
    "\n",
    "full_pipeline = ColumnTransformer([\n",
    "    (\"num\", num_pipeline, num_attributes),\n",
    "    (\"cat\", cat_pipeline, cat_attributes), \n",
    "])"
   ]
  },
  {
   "cell_type": "code",
   "execution_count": 11,
   "id": "c6646438",
   "metadata": {},
   "outputs": [],
   "source": [
    "X_train = full_pipeline.fit_transform(train_data)"
   ]
  },
  {
   "cell_type": "code",
   "execution_count": 12,
   "id": "2e2f7cdf",
   "metadata": {},
   "outputs": [
    {
     "data": {
      "text/plain": [
       "(40228, 28)"
      ]
     },
     "execution_count": 12,
     "metadata": {},
     "output_type": "execute_result"
    }
   ],
   "source": [
    "X_train.shape"
   ]
  },
  {
   "cell_type": "code",
   "execution_count": 13,
   "id": "4a541005",
   "metadata": {},
   "outputs": [
    {
     "data": {
      "text/plain": [
       "array([-0.18235356, -1.5621942 , -0.82340854, -0.64960509, -1.18345993,\n",
       "       -0.5889478 ,  1.13192078,  0.78650626,  0.93403955,  1.28573117,\n",
       "       -0.57252793,  0.        ,  1.        ,  0.        ,  0.        ,\n",
       "        1.        ,  0.        ,  0.        ,  1.        ,  0.        ,\n",
       "        0.        ,  1.        ,  0.        ,  0.        ,  1.        ,\n",
       "        1.        ,  0.        ,  0.        ])"
      ]
     },
     "execution_count": 13,
     "metadata": {},
     "output_type": "execute_result"
    }
   ],
   "source": [
    "X_train[0,:]"
   ]
  },
  {
   "cell_type": "code",
   "execution_count": 14,
   "id": "2fbf4cad",
   "metadata": {},
   "outputs": [
    {
     "data": {
      "text/plain": [
       "5901     2\n",
       "8316     1\n",
       "26706    1\n",
       "9318     2\n",
       "44724    1\n",
       "        ..\n",
       "14843    1\n",
       "2335     2\n",
       "38121    2\n",
       "17751    2\n",
       "39835    1\n",
       "Name: winner, Length: 40228, dtype: int64"
      ]
     },
     "execution_count": 14,
     "metadata": {},
     "output_type": "execute_result"
    }
   ],
   "source": [
    "y_train = train_data[\"winner\"]\n",
    "y_train"
   ]
  },
  {
   "cell_type": "markdown",
   "id": "5275961c",
   "metadata": {},
   "source": [
    "# Entrenamiento de las redes neuronales\n",
    "Se crean los cinco modelos"
   ]
  },
  {
   "cell_type": "markdown",
   "id": "6da3161b",
   "metadata": {},
   "source": [
    "### Modelo 1"
   ]
  },
  {
   "cell_type": "code",
   "execution_count": 15,
   "id": "66c19f05",
   "metadata": {},
   "outputs": [
    {
     "name": "stderr",
     "output_type": "stream",
     "text": [
      "C:\\Users\\zense\\.conda\\envs\\InformeIA\\lib\\site-packages\\sklearn\\neural_network\\_multilayer_perceptron.py:559: ConvergenceWarning: lbfgs failed to converge (status=1):\n",
      "STOP: TOTAL NO. of ITERATIONS REACHED LIMIT.\n",
      "\n",
      "Increase the number of iterations (max_iter) or scale the data as shown in:\n",
      "    https://scikit-learn.org/stable/modules/preprocessing.html\n",
      "  self.n_iter_ = _check_optimize_result(\"lbfgs\", opt_res, self.max_iter)\n",
      "C:\\Users\\zense\\.conda\\envs\\InformeIA\\lib\\site-packages\\sklearn\\neural_network\\_multilayer_perceptron.py:559: ConvergenceWarning: lbfgs failed to converge (status=1):\n",
      "STOP: TOTAL NO. of ITERATIONS REACHED LIMIT.\n",
      "\n",
      "Increase the number of iterations (max_iter) or scale the data as shown in:\n",
      "    https://scikit-learn.org/stable/modules/preprocessing.html\n",
      "  self.n_iter_ = _check_optimize_result(\"lbfgs\", opt_res, self.max_iter)\n",
      "C:\\Users\\zense\\.conda\\envs\\InformeIA\\lib\\site-packages\\sklearn\\neural_network\\_multilayer_perceptron.py:559: ConvergenceWarning: lbfgs failed to converge (status=1):\n",
      "STOP: TOTAL NO. of ITERATIONS REACHED LIMIT.\n",
      "\n",
      "Increase the number of iterations (max_iter) or scale the data as shown in:\n",
      "    https://scikit-learn.org/stable/modules/preprocessing.html\n",
      "  self.n_iter_ = _check_optimize_result(\"lbfgs\", opt_res, self.max_iter)\n",
      "C:\\Users\\zense\\.conda\\envs\\InformeIA\\lib\\site-packages\\sklearn\\neural_network\\_multilayer_perceptron.py:559: ConvergenceWarning: lbfgs failed to converge (status=1):\n",
      "STOP: TOTAL NO. of ITERATIONS REACHED LIMIT.\n",
      "\n",
      "Increase the number of iterations (max_iter) or scale the data as shown in:\n",
      "    https://scikit-learn.org/stable/modules/preprocessing.html\n",
      "  self.n_iter_ = _check_optimize_result(\"lbfgs\", opt_res, self.max_iter)\n",
      "C:\\Users\\zense\\.conda\\envs\\InformeIA\\lib\\site-packages\\sklearn\\neural_network\\_multilayer_perceptron.py:559: ConvergenceWarning: lbfgs failed to converge (status=1):\n",
      "STOP: TOTAL NO. of ITERATIONS REACHED LIMIT.\n",
      "\n",
      "Increase the number of iterations (max_iter) or scale the data as shown in:\n",
      "    https://scikit-learn.org/stable/modules/preprocessing.html\n",
      "  self.n_iter_ = _check_optimize_result(\"lbfgs\", opt_res, self.max_iter)\n"
     ]
    },
    {
     "name": "stdout",
     "output_type": "stream",
     "text": [
      "[-0.02299279 -0.02696992 -0.02386279 -0.02535736 -0.02050963]\n"
     ]
    },
    {
     "data": {
      "text/plain": [
       "-0.02393850029823851"
      ]
     },
     "execution_count": 15,
     "metadata": {},
     "output_type": "execute_result"
    }
   ],
   "source": [
    "from sklearn.neural_network import MLPClassifier\n",
    "from sklearn.model_selection import cross_val_score\n",
    "\n",
    "modelo1 = MLPClassifier(activation='relu',solver='lbfgs', alpha=1e-5,hidden_layer_sizes=(3,5), random_state=123)\n",
    "modelo1.fit(X_train, y_train)\n",
    "scores1 = cross_val_score(modelo1, X_train, y_train, cv=5, scoring='neg_mean_absolute_error')\n",
    "print(scores1)\n",
    "scores1.mean()"
   ]
  },
  {
   "cell_type": "markdown",
   "id": "03af9f6d",
   "metadata": {},
   "source": [
    "### Modelo 2"
   ]
  },
  {
   "cell_type": "code",
   "execution_count": 16,
   "id": "92bd33db",
   "metadata": {
    "scrolled": true
   },
   "outputs": [
    {
     "name": "stderr",
     "output_type": "stream",
     "text": [
      "C:\\Users\\zense\\.conda\\envs\\InformeIA\\lib\\site-packages\\sklearn\\neural_network\\_multilayer_perceptron.py:702: ConvergenceWarning: Stochastic Optimizer: Maximum iterations (200) reached and the optimization hasn't converged yet.\n",
      "  warnings.warn(\n",
      "C:\\Users\\zense\\.conda\\envs\\InformeIA\\lib\\site-packages\\sklearn\\neural_network\\_multilayer_perceptron.py:702: ConvergenceWarning: Stochastic Optimizer: Maximum iterations (200) reached and the optimization hasn't converged yet.\n",
      "  warnings.warn(\n",
      "C:\\Users\\zense\\.conda\\envs\\InformeIA\\lib\\site-packages\\sklearn\\neural_network\\_multilayer_perceptron.py:702: ConvergenceWarning: Stochastic Optimizer: Maximum iterations (200) reached and the optimization hasn't converged yet.\n",
      "  warnings.warn(\n",
      "C:\\Users\\zense\\.conda\\envs\\InformeIA\\lib\\site-packages\\sklearn\\neural_network\\_multilayer_perceptron.py:702: ConvergenceWarning: Stochastic Optimizer: Maximum iterations (200) reached and the optimization hasn't converged yet.\n",
      "  warnings.warn(\n",
      "C:\\Users\\zense\\.conda\\envs\\InformeIA\\lib\\site-packages\\sklearn\\neural_network\\_multilayer_perceptron.py:702: ConvergenceWarning: Stochastic Optimizer: Maximum iterations (200) reached and the optimization hasn't converged yet.\n",
      "  warnings.warn(\n"
     ]
    },
    {
     "name": "stdout",
     "output_type": "stream",
     "text": [
      "[-0.02348993 -0.02361422 -0.02448422 -0.02585457 -0.02324425]\n"
     ]
    },
    {
     "name": "stderr",
     "output_type": "stream",
     "text": [
      "C:\\Users\\zense\\.conda\\envs\\InformeIA\\lib\\site-packages\\sklearn\\neural_network\\_multilayer_perceptron.py:702: ConvergenceWarning: Stochastic Optimizer: Maximum iterations (200) reached and the optimization hasn't converged yet.\n",
      "  warnings.warn(\n"
     ]
    },
    {
     "data": {
      "text/plain": [
       "-0.024137437206540945"
      ]
     },
     "execution_count": 16,
     "metadata": {},
     "output_type": "execute_result"
    }
   ],
   "source": [
    "modelo2 = MLPClassifier(activation='relu',solver='sgd', alpha=1e-5,hidden_layer_sizes=(2,5,3), random_state=123)\n",
    "modelo2.fit(X_train, y_train)\n",
    "scores2 = cross_val_score(modelo2, X_train, y_train, cv=5, scoring='neg_mean_absolute_error')\n",
    "print(scores2)\n",
    "scores2.mean()"
   ]
  },
  {
   "cell_type": "markdown",
   "id": "c647e62e",
   "metadata": {},
   "source": [
    "### Modelo 3"
   ]
  },
  {
   "cell_type": "code",
   "execution_count": 17,
   "id": "9654c50e",
   "metadata": {},
   "outputs": [
    {
     "name": "stdout",
     "output_type": "stream",
     "text": [
      "[-0.02174994 -0.02411136 -0.02063137 -0.02287135 -0.02063393]\n"
     ]
    },
    {
     "data": {
      "text/plain": [
       "-0.02199958998962924"
      ]
     },
     "execution_count": 17,
     "metadata": {},
     "output_type": "execute_result"
    }
   ],
   "source": [
    "modelo3 = MLPClassifier(activation='relu',solver='sgd', alpha=1e-5,hidden_layer_sizes=(12,22,35,17), random_state=123)\n",
    "modelo3.fit(X_train, y_train)\n",
    "scores3 = cross_val_score(modelo3, X_train, y_train, cv=5, scoring='neg_mean_absolute_error')\n",
    "print(scores3)\n",
    "scores3.mean()"
   ]
  },
  {
   "cell_type": "markdown",
   "id": "2be2d88f",
   "metadata": {},
   "source": [
    "### Modelo 4"
   ]
  },
  {
   "cell_type": "code",
   "execution_count": 18,
   "id": "42b74faa",
   "metadata": {},
   "outputs": [
    {
     "name": "stdout",
     "output_type": "stream",
     "text": [
      "[-0.02411136 -0.0246085  -0.02386279 -0.02510876 -0.02324425]\n"
     ]
    },
    {
     "data": {
      "text/plain": [
       "-0.024187132811690142"
      ]
     },
     "execution_count": 18,
     "metadata": {},
     "output_type": "execute_result"
    }
   ],
   "source": [
    "modelo4 = MLPClassifier(activation='relu',solver='sgd', alpha=1e-5,hidden_layer_sizes=(2,5,7,2), random_state=123)\n",
    "modelo4.fit(X_train, y_train)\n",
    "scores4 = cross_val_score(modelo4, X_train, y_train, cv=5, scoring='neg_mean_absolute_error')\n",
    "print(scores4)\n",
    "scores4.mean()"
   ]
  },
  {
   "cell_type": "markdown",
   "id": "e38b4509",
   "metadata": {},
   "source": [
    "### Modelo 5"
   ]
  },
  {
   "cell_type": "code",
   "execution_count": 19,
   "id": "abccdb15",
   "metadata": {},
   "outputs": [
    {
     "name": "stdout",
     "output_type": "stream",
     "text": [
      "[-0.49279145 -0.49279145 -0.49279145 -0.4927284  -0.4927284 ]\n"
     ]
    },
    {
     "data": {
      "text/plain": [
       "-0.4927662305942199"
      ]
     },
     "execution_count": 19,
     "metadata": {},
     "output_type": "execute_result"
    }
   ],
   "source": [
    "modelo5 = MLPClassifier(activation='relu',solver='sgd', alpha=1e-5,hidden_layer_sizes=(4,2,8,3,7), random_state=123)\n",
    "modelo5.fit(X_train, y_train)\n",
    "scores5 = cross_val_score(modelo5, X_train, y_train, cv=5, scoring='neg_mean_absolute_error')\n",
    "print(scores5)\n",
    "scores5.mean()"
   ]
  },
  {
   "cell_type": "markdown",
   "id": "d66117cf",
   "metadata": {},
   "source": [
    "# Se usan los modelos en el conjunto de prueba"
   ]
  },
  {
   "cell_type": "code",
   "execution_count": 20,
   "id": "7196437f",
   "metadata": {},
   "outputs": [
    {
     "data": {
      "text/plain": [
       "array([[-0.56597332, -0.76000272, -0.82340854, ...,  0.        ,\n",
       "         0.        ,  1.        ],\n",
       "       [ 0.25226767, -0.76000272, -0.82340854, ...,  1.        ,\n",
       "         0.        ,  0.        ],\n",
       "       [-0.29322632, -1.02739988, -0.82340854, ...,  0.        ,\n",
       "         0.        ,  1.        ],\n",
       "       ...,\n",
       "       [-1.02055165, -1.29479704, -0.82340854, ...,  0.        ,\n",
       "         0.        ,  1.        ],\n",
       "       [-1.2312099 ,  0.84438025,  0.75036881, ...,  1.        ,\n",
       "         0.        ,  0.        ],\n",
       "       [-1.36425722, -1.5621942 , -0.82340854, ...,  0.        ,\n",
       "         0.        ,  1.        ]])"
      ]
     },
     "execution_count": 20,
     "metadata": {},
     "output_type": "execute_result"
    }
   ],
   "source": [
    "X_test = full_pipeline.transform(test_data)\n",
    "X_test"
   ]
  },
  {
   "cell_type": "code",
   "execution_count": 21,
   "id": "2cbfae5e",
   "metadata": {},
   "outputs": [
    {
     "data": {
      "text/plain": [
       "array([2, 2, 2, ..., 2, 1, 2], dtype=int64)"
      ]
     },
     "execution_count": 21,
     "metadata": {},
     "output_type": "execute_result"
    }
   ],
   "source": [
    "y_pred1 = modelo1.predict(X_test)\n",
    "y_pred1"
   ]
  },
  {
   "cell_type": "code",
   "execution_count": 22,
   "id": "1d9f7642",
   "metadata": {},
   "outputs": [
    {
     "data": {
      "text/plain": [
       "array([2, 2, 2, ..., 2, 1, 2], dtype=int64)"
      ]
     },
     "execution_count": 22,
     "metadata": {},
     "output_type": "execute_result"
    }
   ],
   "source": [
    "y_pred2 = modelo2.predict(X_test)\n",
    "y_pred2"
   ]
  },
  {
   "cell_type": "code",
   "execution_count": 23,
   "id": "0baeec6b",
   "metadata": {},
   "outputs": [
    {
     "data": {
      "text/plain": [
       "array([2, 2, 2, ..., 2, 1, 2], dtype=int64)"
      ]
     },
     "execution_count": 23,
     "metadata": {},
     "output_type": "execute_result"
    }
   ],
   "source": [
    "y_pred3 = modelo3.predict(X_test)\n",
    "y_pred3"
   ]
  },
  {
   "cell_type": "code",
   "execution_count": 24,
   "id": "74809db9",
   "metadata": {},
   "outputs": [
    {
     "data": {
      "text/plain": [
       "array([2, 2, 2, ..., 2, 1, 2], dtype=int64)"
      ]
     },
     "execution_count": 24,
     "metadata": {},
     "output_type": "execute_result"
    }
   ],
   "source": [
    "y_pred4 = modelo4.predict(X_test)\n",
    "y_pred4"
   ]
  },
  {
   "cell_type": "code",
   "execution_count": 25,
   "id": "ce29f899",
   "metadata": {},
   "outputs": [
    {
     "data": {
      "text/plain": [
       "array([1, 1, 1, ..., 1, 1, 1], dtype=int64)"
      ]
     },
     "execution_count": 25,
     "metadata": {},
     "output_type": "execute_result"
    }
   ],
   "source": [
    "y_pred5 = modelo5.predict(X_test)\n",
    "y_pred5"
   ]
  },
  {
   "cell_type": "code",
   "execution_count": 26,
   "id": "8fa4989b",
   "metadata": {},
   "outputs": [],
   "source": [
    "y_test = test_data[\"winner\"]"
   ]
  },
  {
   "cell_type": "code",
   "execution_count": 27,
   "id": "ec4429da",
   "metadata": {},
   "outputs": [
    {
     "data": {
      "text/plain": [
       "48629    2\n",
       "13949    2\n",
       "33194    2\n",
       "47426    1\n",
       "34568    2\n",
       "        ..\n",
       "24789    1\n",
       "47465    2\n",
       "34933    2\n",
       "26395    1\n",
       "34440    2\n",
       "Name: winner, Length: 10058, dtype: int64"
      ]
     },
     "execution_count": 27,
     "metadata": {},
     "output_type": "execute_result"
    }
   ],
   "source": [
    "y_test"
   ]
  },
  {
   "cell_type": "code",
   "execution_count": 28,
   "id": "15550504",
   "metadata": {},
   "outputs": [
    {
     "name": "stdout",
     "output_type": "stream",
     "text": [
      "El error medio absoluto del modelo 1 es: 0.022569099224497912\n"
     ]
    }
   ],
   "source": [
    "from sklearn.metrics import mean_absolute_error\n",
    "mae = mean_absolute_error(\n",
    "        y_true  = y_test,\n",
    "        y_pred  = y_pred1\n",
    "       )\n",
    "print(f\"El error medio absoluto del modelo 1 es: {mae}\")"
   ]
  },
  {
   "cell_type": "code",
   "execution_count": 29,
   "id": "e4276bc0",
   "metadata": {},
   "outputs": [
    {
     "name": "stdout",
     "output_type": "stream",
     "text": [
      "El error medio absoluto del modelo 2 es: 0.02157486577848479\n"
     ]
    }
   ],
   "source": [
    "from sklearn.metrics import mean_absolute_error\n",
    "mae = mean_absolute_error(\n",
    "        y_true  = y_test,\n",
    "        y_pred  = y_pred2\n",
    "       )\n",
    "print(f\"El error medio absoluto del modelo 2 es: {mae}\")"
   ]
  },
  {
   "cell_type": "code",
   "execution_count": 30,
   "id": "e96a770f",
   "metadata": {},
   "outputs": [
    {
     "name": "stdout",
     "output_type": "stream",
     "text": [
      "El error medio absoluto del modelo 3 es: 0.019288128852654605\n"
     ]
    }
   ],
   "source": [
    "from sklearn.metrics import mean_absolute_error\n",
    "mae = mean_absolute_error(\n",
    "        y_true  = y_test,\n",
    "        y_pred  = y_pred3\n",
    "       )\n",
    "print(f\"El error medio absoluto del modelo 3 es: {mae}\")"
   ]
  },
  {
   "cell_type": "code",
   "execution_count": 31,
   "id": "3adca133",
   "metadata": {},
   "outputs": [
    {
     "name": "stdout",
     "output_type": "stream",
     "text": [
      "El error medio absoluto del modelo 2 es: 0.02207198250149135\n"
     ]
    }
   ],
   "source": [
    "from sklearn.metrics import mean_absolute_error\n",
    "mae = mean_absolute_error(\n",
    "        y_true  = y_test,\n",
    "        y_pred  = y_pred4\n",
    "       )\n",
    "print(f\"El error medio absoluto del modelo 2 es: {mae}\")"
   ]
  },
  {
   "cell_type": "code",
   "execution_count": 32,
   "id": "92d2e86b",
   "metadata": {},
   "outputs": [
    {
     "name": "stdout",
     "output_type": "stream",
     "text": [
      "El error medio absoluto del modelo 2 es: 0.49781268641877113\n"
     ]
    }
   ],
   "source": [
    "from sklearn.metrics import mean_absolute_error\n",
    "mae = mean_absolute_error(\n",
    "        y_true  = y_test,\n",
    "        y_pred  = y_pred5\n",
    "       )\n",
    "print(f\"El error medio absoluto del modelo 2 es: {mae}\")"
   ]
  },
  {
   "cell_type": "markdown",
   "id": "528dbd84",
   "metadata": {},
   "source": [
    "# Se sacan los valores de accuracy"
   ]
  },
  {
   "cell_type": "code",
   "execution_count": 33,
   "id": "14d776ca",
   "metadata": {},
   "outputs": [
    {
     "name": "stdout",
     "output_type": "stream",
     "text": [
      "0.9774309007755021\n"
     ]
    }
   ],
   "source": [
    "from sklearn.metrics import accuracy_score\n",
    "accMod1=accuracy_score(y_test, y_pred1)\n",
    "print(accMod1)"
   ]
  },
  {
   "cell_type": "code",
   "execution_count": 34,
   "id": "03f8c588",
   "metadata": {},
   "outputs": [
    {
     "name": "stdout",
     "output_type": "stream",
     "text": [
      "0.9784251342215152\n"
     ]
    }
   ],
   "source": [
    "from sklearn.metrics import accuracy_score\n",
    "accMod2=accuracy_score(y_test, y_pred2)\n",
    "print(accMod2)"
   ]
  },
  {
   "cell_type": "code",
   "execution_count": 35,
   "id": "cb90050d",
   "metadata": {},
   "outputs": [
    {
     "name": "stdout",
     "output_type": "stream",
     "text": [
      "0.9807118711473454\n"
     ]
    }
   ],
   "source": [
    "from sklearn.metrics import accuracy_score\n",
    "accMod3=accuracy_score(y_test, y_pred3)\n",
    "print(accMod3)"
   ]
  },
  {
   "cell_type": "code",
   "execution_count": 36,
   "id": "d9bbf3d8",
   "metadata": {},
   "outputs": [
    {
     "name": "stdout",
     "output_type": "stream",
     "text": [
      "0.9779280174985087\n"
     ]
    }
   ],
   "source": [
    "from sklearn.metrics import accuracy_score\n",
    "accMod4=accuracy_score(y_test, y_pred4)\n",
    "print(accMod4)"
   ]
  },
  {
   "cell_type": "code",
   "execution_count": 37,
   "id": "1d03b17c",
   "metadata": {},
   "outputs": [
    {
     "name": "stdout",
     "output_type": "stream",
     "text": [
      "0.5021873135812289\n"
     ]
    }
   ],
   "source": [
    "from sklearn.metrics import accuracy_score\n",
    "accMod5=accuracy_score(y_test, y_pred5)\n",
    "print(accMod5)"
   ]
  },
  {
   "cell_type": "markdown",
   "id": "feebde4b",
   "metadata": {},
   "source": [
    "## Tabla con todas las _accuracies_ resumidas"
   ]
  },
  {
   "cell_type": "code",
   "execution_count": 38,
   "id": "8a8fa527",
   "metadata": {},
   "outputs": [
    {
     "name": "stdout",
     "output_type": "stream",
     "text": [
      "  Número de Modelo  second_column\n",
      "0                1       0.977431\n",
      "1                2       0.978425\n",
      "2                3       0.980712\n",
      "3                4       0.977928\n",
      "4                5       0.502187\n"
     ]
    }
   ],
   "source": [
    "data = {'Número de Modelo':  ['1', '2', '3', '4', '5'],\n",
    "        'second_column': [accMod1, accMod2, accMod3, accMod4, accMod5]\n",
    "        }\n",
    "\n",
    "df = pd.DataFrame(data)\n",
    "\n",
    "print (df)"
   ]
  },
  {
   "cell_type": "markdown",
   "id": "30e23abe",
   "metadata": {},
   "source": [
    "# Se sacan las matrices de confusión"
   ]
  },
  {
   "cell_type": "code",
   "execution_count": 39,
   "id": "c8b77d6b",
   "metadata": {},
   "outputs": [
    {
     "data": {
      "text/plain": [
       "array([[4983,   68],\n",
       "       [ 159, 4848]], dtype=int64)"
      ]
     },
     "execution_count": 39,
     "metadata": {},
     "output_type": "execute_result"
    }
   ],
   "source": [
    "from sklearn.metrics import confusion_matrix\n",
    "\n",
    "confusion_matrix1 = confusion_matrix(y_test, y_pred1)\n",
    "confusion_matrix1"
   ]
  },
  {
   "cell_type": "code",
   "execution_count": 40,
   "id": "eed43727",
   "metadata": {},
   "outputs": [
    {
     "data": {
      "image/png": "[encoded data removed]",
      "text/plain": [
       "<Figure size 432x288 with 2 Axes>"
      ]
     },
     "metadata": {
      "needs_background": "light"
     },
     "output_type": "display_data"
    }
   ],
   "source": [
    "%matplotlib inline\n",
    "import matplotlib.pyplot as plt\n",
    "import seaborn as sns\n",
    "\n",
    "ax = plt.subplot()\n",
    "sns.heatmap(confusion_matrix1, annot = True, ax = ax, fmt = 'd')\n",
    "\n",
    "ax.set_xlabel('Predicted labels')\n",
    "ax.set_ylabel('Actual labels')\n",
    "ax.set_title('Confusion Matrix - LOL Modelo 1')\n",
    "ax.yaxis.set_ticklabels(['Negative=0', 'Positive=1'])\n",
    "ax.xaxis.set_ticklabels(['Negative=0', 'Positive=1'])\n",
    "plt.show()"
   ]
  },
  {
   "cell_type": "code",
   "execution_count": 41,
   "id": "baa30f1b",
   "metadata": {},
   "outputs": [
    {
     "data": {
      "text/plain": [
       "array([[4966,   85],\n",
       "       [ 132, 4875]], dtype=int64)"
      ]
     },
     "execution_count": 41,
     "metadata": {},
     "output_type": "execute_result"
    }
   ],
   "source": [
    "from sklearn.metrics import confusion_matrix\n",
    "\n",
    "confusion_matrix2 = confusion_matrix(y_test, y_pred2)\n",
    "confusion_matrix2"
   ]
  },
  {
   "cell_type": "code",
   "execution_count": 42,
   "id": "864cf75c",
   "metadata": {},
   "outputs": [
    {
     "data": {
      "image/png": "[encoded data removed]",
      "text/plain": [
       "<Figure size 432x288 with 2 Axes>"
      ]
     },
     "metadata": {
      "needs_background": "light"
     },
     "output_type": "display_data"
    }
   ],
   "source": [
    "%matplotlib inline\n",
    "import matplotlib.pyplot as plt\n",
    "import seaborn as sns\n",
    "\n",
    "ax = plt.subplot()\n",
    "sns.heatmap(confusion_matrix2, annot = True, ax = ax, fmt = 'd')\n",
    "\n",
    "ax.set_xlabel('Predicted labels')\n",
    "ax.set_ylabel('Actual labels')\n",
    "ax.set_title('Confusion Matrix - LOL Modelo 2')\n",
    "ax.yaxis.set_ticklabels(['Negative=0', 'Positive=1'])\n",
    "ax.xaxis.set_ticklabels(['Negative=0', 'Positive=1'])\n",
    "plt.show()"
   ]
  },
  {
   "cell_type": "code",
   "execution_count": 43,
   "id": "300fbef1",
   "metadata": {},
   "outputs": [
    {
     "data": {
      "text/plain": [
       "array([[4950,  101],\n",
       "       [  93, 4914]], dtype=int64)"
      ]
     },
     "execution_count": 43,
     "metadata": {},
     "output_type": "execute_result"
    }
   ],
   "source": [
    "from sklearn.metrics import confusion_matrix\n",
    "\n",
    "confusion_matrix3 = confusion_matrix(y_test, y_pred3)\n",
    "confusion_matrix3"
   ]
  },
  {
   "cell_type": "code",
   "execution_count": 44,
   "id": "f6692fb3",
   "metadata": {},
   "outputs": [
    {
     "data": {
      "image/png": "[encoded data removed]",
      "text/plain": [
       "<Figure size 432x288 with 2 Axes>"
      ]
     },
     "metadata": {
      "needs_background": "light"
     },
     "output_type": "display_data"
    }
   ],
   "source": [
    "%matplotlib inline\n",
    "import matplotlib.pyplot as plt\n",
    "import seaborn as sns\n",
    "\n",
    "ax = plt.subplot()\n",
    "sns.heatmap(confusion_matrix3, annot = True, ax = ax, fmt = 'd')\n",
    "\n",
    "ax.set_xlabel('Predicted labels')\n",
    "ax.set_ylabel('Actual labels')\n",
    "ax.set_title('Confusion Matrix - LOL Modelo 3')\n",
    "ax.yaxis.set_ticklabels(['Negative=0', 'Positive=1'])\n",
    "ax.xaxis.set_ticklabels(['Negative=0', 'Positive=1'])\n",
    "plt.show()"
   ]
  },
  {
   "cell_type": "code",
   "execution_count": 45,
   "id": "61b2d13e",
   "metadata": {},
   "outputs": [
    {
     "data": {
      "text/plain": [
       "array([[4957,   94],\n",
       "       [ 128, 4879]], dtype=int64)"
      ]
     },
     "execution_count": 45,
     "metadata": {},
     "output_type": "execute_result"
    }
   ],
   "source": [
    "from sklearn.metrics import confusion_matrix\n",
    "\n",
    "confusion_matrix4 = confusion_matrix(y_test, y_pred4)\n",
    "confusion_matrix4"
   ]
  },
  {
   "cell_type": "code",
   "execution_count": 46,
   "id": "49b1565f",
   "metadata": {},
   "outputs": [
    {
     "data": {
      "image/png": "[encoded data removed]",
      "text/plain": [
       "<Figure size 432x288 with 2 Axes>"
      ]
     },
     "metadata": {
      "needs_background": "light"
     },
     "output_type": "display_data"
    }
   ],
   "source": [
    "%matplotlib inline\n",
    "import matplotlib.pyplot as plt\n",
    "import seaborn as sns\n",
    "\n",
    "ax = plt.subplot()\n",
    "sns.heatmap(confusion_matrix4, annot = True, ax = ax, fmt = 'd')\n",
    "\n",
    "ax.set_xlabel('Predicted labels')\n",
    "ax.set_ylabel('Actual labels')\n",
    "ax.set_title('Confusion Matrix - LOL Modelo 4')\n",
    "ax.yaxis.set_ticklabels(['Negative=0', 'Positive=1'])\n",
    "ax.xaxis.set_ticklabels(['Negative=0', 'Positive=1'])\n",
    "plt.show()"
   ]
  },
  {
   "cell_type": "code",
   "execution_count": 47,
   "id": "7f4af214",
   "metadata": {},
   "outputs": [
    {
     "data": {
      "text/plain": [
       "array([[5051,    0],\n",
       "       [5007,    0]], dtype=int64)"
      ]
     },
     "execution_count": 47,
     "metadata": {},
     "output_type": "execute_result"
    }
   ],
   "source": [
    "from sklearn.metrics import confusion_matrix\n",
    "\n",
    "confusion_matrix5 = confusion_matrix(y_test, y_pred5)\n",
    "confusion_matrix5"
   ]
  },
  {
   "cell_type": "code",
   "execution_count": 48,
   "id": "f08f9963",
   "metadata": {},
   "outputs": [
    {
     "data": {
      "image/png": "[encoded data removed]",
      "text/plain": [
       "<Figure size 432x288 with 2 Axes>"
      ]
     },
     "metadata": {
      "needs_background": "light"
     },
     "output_type": "display_data"
    }
   ],
   "source": [
    "%matplotlib inline\n",
    "import matplotlib.pyplot as plt\n",
    "import seaborn as sns\n",
    "\n",
    "ax = plt.subplot()\n",
    "sns.heatmap(confusion_matrix5, annot = True, ax = ax, fmt = 'd')\n",
    "\n",
    "#este es el modelo que hemos dejado con un accuracy muy bajo (51%),y aquí se evidencia como identifica efectivamente que\n",
    "#se encuentre lo predecido, o falla\n",
    "ax.set_xlabel('Predicted labels')\n",
    "ax.set_ylabel('Actual labels')\n",
    "ax.set_title('Confusion Matrix - LOL Modelo 5')\n",
    "ax.yaxis.set_ticklabels(['Negative=0', 'Positive=1'])\n",
    "ax.xaxis.set_ticklabels(['Negative=0', 'Positive=1'])\n",
    "plt.show()"
   ]
  },
  {
   "cell_type": "markdown",
   "id": "4f37ff26",
   "metadata": {},
   "source": [
    "# Mejores Hiperparámetros hasta este momento\n",
    "#### Modelo 3\n",
    "activation='relu <br>\n",
    "solver='sgd'<br>\n",
    "alpha=1e-5<br>\n",
    "hidden_layer_sizes=(12,22,35,17)<br>\n",
    "random_state=123"
   ]
  },
  {
   "cell_type": "markdown",
   "id": "12c393a1",
   "metadata": {},
   "source": [
    "# Se añade un hiperparámetro diferente"
   ]
  },
  {
   "cell_type": "markdown",
   "id": "6c2931b8",
   "metadata": {},
   "source": [
    "### Variación 1"
   ]
  },
  {
   "cell_type": "code",
   "execution_count": 51,
   "id": "dc21319c",
   "metadata": {},
   "outputs": [
    {
     "data": {
      "text/html": [
       "<style>#sk-container-id-2 {color: black;background-color: white;}#sk-container-id-2 pre{padding: 0;}#sk-container-id-2 div.sk-toggleable {background-color: white;}#sk-container-id-2 label.sk-toggleable__label {cursor: pointer;display: block;width: 100%;margin-bottom: 0;padding: 0.3em;box-sizing: border-box;text-align: center;}#sk-container-id-2 label.sk-toggleable__label-arrow:before {content: \"▸\";float: left;margin-right: 0.25em;color: #696969;}#sk-container-id-2 label.sk-toggleable__label-arrow:hover:before {color: black;}#sk-container-id-2 div.sk-estimator:hover label.sk-toggleable__label-arrow:before {color: black;}#sk-container-id-2 div.sk-toggleable__content {max-height: 0;max-width: 0;overflow: hidden;text-align: left;background-color: #f0f8ff;}#sk-container-id-2 div.sk-toggleable__content pre {margin: 0.2em;color: black;border-radius: 0.25em;background-color: #f0f8ff;}#sk-container-id-2 input.sk-toggleable__control:checked~div.sk-toggleable__content {max-height: 200px;max-width: 100%;overflow: auto;}#sk-container-id-2 input.sk-toggleable__control:checked~label.sk-toggleable__label-arrow:before {content: \"▾\";}#sk-container-id-2 div.sk-estimator input.sk-toggleable__control:checked~label.sk-toggleable__label {background-color: #d4ebff;}#sk-container-id-2 div.sk-label input.sk-toggleable__control:checked~label.sk-toggleable__label {background-color: #d4ebff;}#sk-container-id-2 input.sk-hidden--visually {border: 0;clip: rect(1px 1px 1px 1px);clip: rect(1px, 1px, 1px, 1px);height: 1px;margin: -1px;overflow: hidden;padding: 0;position: absolute;width: 1px;}#sk-container-id-2 div.sk-estimator {font-family: monospace;background-color: #f0f8ff;border: 1px dotted black;border-radius: 0.25em;box-sizing: border-box;margin-bottom: 0.5em;}#sk-container-id-2 div.sk-estimator:hover {background-color: #d4ebff;}#sk-container-id-2 div.sk-parallel-item::after {content: \"\";width: 100%;border-bottom: 1px solid gray;flex-grow: 1;}#sk-container-id-2 div.sk-label:hover label.sk-toggleable__label {background-color: #d4ebff;}#sk-container-id-2 div.sk-serial::before {content: \"\";position: absolute;border-left: 1px solid gray;box-sizing: border-box;top: 0;bottom: 0;left: 50%;z-index: 0;}#sk-container-id-2 div.sk-serial {display: flex;flex-direction: column;align-items: center;background-color: white;padding-right: 0.2em;padding-left: 0.2em;position: relative;}#sk-container-id-2 div.sk-item {position: relative;z-index: 1;}#sk-container-id-2 div.sk-parallel {display: flex;align-items: stretch;justify-content: center;background-color: white;position: relative;}#sk-container-id-2 div.sk-item::before, #sk-container-id-2 div.sk-parallel-item::before {content: \"\";position: absolute;border-left: 1px solid gray;box-sizing: border-box;top: 0;bottom: 0;left: 50%;z-index: -1;}#sk-container-id-2 div.sk-parallel-item {display: flex;flex-direction: column;z-index: 1;position: relative;background-color: white;}#sk-container-id-2 div.sk-parallel-item:first-child::after {align-self: flex-end;width: 50%;}#sk-container-id-2 div.sk-parallel-item:last-child::after {align-self: flex-start;width: 50%;}#sk-container-id-2 div.sk-parallel-item:only-child::after {width: 0;}#sk-container-id-2 div.sk-dashed-wrapped {border: 1px dashed gray;margin: 0 0.4em 0.5em 0.4em;box-sizing: border-box;padding-bottom: 0.4em;background-color: white;}#sk-container-id-2 div.sk-label label {font-family: monospace;font-weight: bold;display: inline-block;line-height: 1.2em;}#sk-container-id-2 div.sk-label-container {text-align: center;}#sk-container-id-2 div.sk-container {/* jupyter's `normalize.less` sets `[hidden] { display: none; }` but bootstrap.min.css set `[hidden] { display: none !important; }` so we also need the `!important` here to be able to override the default hidden behavior on the sphinx rendered scikit-learn.org. See: https://github.com/scikit-learn/scikit-learn/issues/21755 */display: inline-block !important;position: relative;}#sk-container-id-2 div.sk-text-repr-fallback {display: none;}</style><div id=\"sk-container-id-2\" class=\"sk-top-container\"><div class=\"sk-text-repr-fallback\"><pre>MLPClassifier(alpha=1e-05, hidden_layer_sizes=(12, 22, 35, 17),\n",
       "              learning_rate=&#x27;invscaling&#x27;, random_state=123, solver=&#x27;sgd&#x27;)</pre><b>In a Jupyter environment, please rerun this cell to show the HTML representation or trust the notebook. <br />On GitHub, the HTML representation is unable to render, please try loading this page with nbviewer.org.</b></div><div class=\"sk-container\" hidden><div class=\"sk-item\"><div class=\"sk-estimator sk-toggleable\"><input class=\"sk-toggleable__control sk-hidden--visually\" id=\"sk-estimator-id-2\" type=\"checkbox\" checked><label for=\"sk-estimator-id-2\" class=\"sk-toggleable__label sk-toggleable__label-arrow\">MLPClassifier</label><div class=\"sk-toggleable__content\"><pre>MLPClassifier(alpha=1e-05, hidden_layer_sizes=(12, 22, 35, 17),\n",
       "              learning_rate=&#x27;invscaling&#x27;, random_state=123, solver=&#x27;sgd&#x27;)</pre></div></div></div></div></div>"
      ],
      "text/plain": [
       "MLPClassifier(alpha=1e-05, hidden_layer_sizes=(12, 22, 35, 17),\n",
       "              learning_rate='invscaling', random_state=123, solver='sgd')"
      ]
     },
     "execution_count": 51,
     "metadata": {},
     "output_type": "execute_result"
    }
   ],
   "source": [
    "modelo3Modified1 = MLPClassifier(activation='relu',solver='sgd', alpha=1e-5,hidden_layer_sizes=(12,22,35,17), random_state=123, learning_rate='invscaling')\n",
    "modelo3Modified1.fit(X_train, y_train)"
   ]
  },
  {
   "cell_type": "code",
   "execution_count": 52,
   "id": "8ae225c6",
   "metadata": {},
   "outputs": [
    {
     "name": "stdout",
     "output_type": "stream",
     "text": [
      "0.912805726784649\n"
     ]
    }
   ],
   "source": [
    "y_pred1Mod3 = modelo3Modified1.predict(X_test)\n",
    "accM1=accuracy_score(y_test, y_pred1Mod3)\n",
    "print(accM1)"
   ]
  },
  {
   "cell_type": "code",
   "execution_count": 53,
   "id": "fa45a1ea",
   "metadata": {},
   "outputs": [
    {
     "data": {
      "text/html": [
       "<style>#sk-container-id-3 {color: black;background-color: white;}#sk-container-id-3 pre{padding: 0;}#sk-container-id-3 div.sk-toggleable {background-color: white;}#sk-container-id-3 label.sk-toggleable__label {cursor: pointer;display: block;width: 100%;margin-bottom: 0;padding: 0.3em;box-sizing: border-box;text-align: center;}#sk-container-id-3 label.sk-toggleable__label-arrow:before {content: \"▸\";float: left;margin-right: 0.25em;color: #696969;}#sk-container-id-3 label.sk-toggleable__label-arrow:hover:before {color: black;}#sk-container-id-3 div.sk-estimator:hover label.sk-toggleable__label-arrow:before {color: black;}#sk-container-id-3 div.sk-toggleable__content {max-height: 0;max-width: 0;overflow: hidden;text-align: left;background-color: #f0f8ff;}#sk-container-id-3 div.sk-toggleable__content pre {margin: 0.2em;color: black;border-radius: 0.25em;background-color: #f0f8ff;}#sk-container-id-3 input.sk-toggleable__control:checked~div.sk-toggleable__content {max-height: 200px;max-width: 100%;overflow: auto;}#sk-container-id-3 input.sk-toggleable__control:checked~label.sk-toggleable__label-arrow:before {content: \"▾\";}#sk-container-id-3 div.sk-estimator input.sk-toggleable__control:checked~label.sk-toggleable__label {background-color: #d4ebff;}#sk-container-id-3 div.sk-label input.sk-toggleable__control:checked~label.sk-toggleable__label {background-color: #d4ebff;}#sk-container-id-3 input.sk-hidden--visually {border: 0;clip: rect(1px 1px 1px 1px);clip: rect(1px, 1px, 1px, 1px);height: 1px;margin: -1px;overflow: hidden;padding: 0;position: absolute;width: 1px;}#sk-container-id-3 div.sk-estimator {font-family: monospace;background-color: #f0f8ff;border: 1px dotted black;border-radius: 0.25em;box-sizing: border-box;margin-bottom: 0.5em;}#sk-container-id-3 div.sk-estimator:hover {background-color: #d4ebff;}#sk-container-id-3 div.sk-parallel-item::after {content: \"\";width: 100%;border-bottom: 1px solid gray;flex-grow: 1;}#sk-container-id-3 div.sk-label:hover label.sk-toggleable__label {background-color: #d4ebff;}#sk-container-id-3 div.sk-serial::before {content: \"\";position: absolute;border-left: 1px solid gray;box-sizing: border-box;top: 0;bottom: 0;left: 50%;z-index: 0;}#sk-container-id-3 div.sk-serial {display: flex;flex-direction: column;align-items: center;background-color: white;padding-right: 0.2em;padding-left: 0.2em;position: relative;}#sk-container-id-3 div.sk-item {position: relative;z-index: 1;}#sk-container-id-3 div.sk-parallel {display: flex;align-items: stretch;justify-content: center;background-color: white;position: relative;}#sk-container-id-3 div.sk-item::before, #sk-container-id-3 div.sk-parallel-item::before {content: \"\";position: absolute;border-left: 1px solid gray;box-sizing: border-box;top: 0;bottom: 0;left: 50%;z-index: -1;}#sk-container-id-3 div.sk-parallel-item {display: flex;flex-direction: column;z-index: 1;position: relative;background-color: white;}#sk-container-id-3 div.sk-parallel-item:first-child::after {align-self: flex-end;width: 50%;}#sk-container-id-3 div.sk-parallel-item:last-child::after {align-self: flex-start;width: 50%;}#sk-container-id-3 div.sk-parallel-item:only-child::after {width: 0;}#sk-container-id-3 div.sk-dashed-wrapped {border: 1px dashed gray;margin: 0 0.4em 0.5em 0.4em;box-sizing: border-box;padding-bottom: 0.4em;background-color: white;}#sk-container-id-3 div.sk-label label {font-family: monospace;font-weight: bold;display: inline-block;line-height: 1.2em;}#sk-container-id-3 div.sk-label-container {text-align: center;}#sk-container-id-3 div.sk-container {/* jupyter's `normalize.less` sets `[hidden] { display: none; }` but bootstrap.min.css set `[hidden] { display: none !important; }` so we also need the `!important` here to be able to override the default hidden behavior on the sphinx rendered scikit-learn.org. See: https://github.com/scikit-learn/scikit-learn/issues/21755 */display: inline-block !important;position: relative;}#sk-container-id-3 div.sk-text-repr-fallback {display: none;}</style><div id=\"sk-container-id-3\" class=\"sk-top-container\"><div class=\"sk-text-repr-fallback\"><pre>MLPClassifier(alpha=1e-05, hidden_layer_sizes=(12, 22, 35, 17),\n",
       "              learning_rate=&#x27;adaptive&#x27;, random_state=123, solver=&#x27;sgd&#x27;)</pre><b>In a Jupyter environment, please rerun this cell to show the HTML representation or trust the notebook. <br />On GitHub, the HTML representation is unable to render, please try loading this page with nbviewer.org.</b></div><div class=\"sk-container\" hidden><div class=\"sk-item\"><div class=\"sk-estimator sk-toggleable\"><input class=\"sk-toggleable__control sk-hidden--visually\" id=\"sk-estimator-id-3\" type=\"checkbox\" checked><label for=\"sk-estimator-id-3\" class=\"sk-toggleable__label sk-toggleable__label-arrow\">MLPClassifier</label><div class=\"sk-toggleable__content\"><pre>MLPClassifier(alpha=1e-05, hidden_layer_sizes=(12, 22, 35, 17),\n",
       "              learning_rate=&#x27;adaptive&#x27;, random_state=123, solver=&#x27;sgd&#x27;)</pre></div></div></div></div></div>"
      ],
      "text/plain": [
       "MLPClassifier(alpha=1e-05, hidden_layer_sizes=(12, 22, 35, 17),\n",
       "              learning_rate='adaptive', random_state=123, solver='sgd')"
      ]
     },
     "execution_count": 53,
     "metadata": {},
     "output_type": "execute_result"
    }
   ],
   "source": [
    "modelo3Modified2 = MLPClassifier(activation='relu',solver='sgd', alpha=1e-5,hidden_layer_sizes=(12,22,35,17), random_state=123, learning_rate='adaptive')\n",
    "modelo3Modified2.fit(X_train, y_train)"
   ]
  },
  {
   "cell_type": "code",
   "execution_count": 54,
   "id": "b277fc52",
   "metadata": {},
   "outputs": [
    {
     "name": "stdout",
     "output_type": "stream",
     "text": [
      "0.9805130244581428\n"
     ]
    }
   ],
   "source": [
    "y_pred2Mod3 = modelo3Modified2.predict(X_test)\n",
    "accM2=accuracy_score(y_test, y_pred2Mod3)\n",
    "print(accM2)"
   ]
  },
  {
   "cell_type": "markdown",
   "id": "df84ab79",
   "metadata": {},
   "source": [
    "## Hacemos análisis de las _accuracies_ ¿Mejoraron o empeoraron?"
   ]
  },
  {
   "cell_type": "code",
   "execution_count": 55,
   "id": "f73bf0d7",
   "metadata": {},
   "outputs": [
    {
     "name": "stdout",
     "output_type": "stream",
     "text": [
      "Primera modificación:  0.912805726784649 \n",
      "Segunda Modificación:  0.9805130244581428 \n",
      "Valor Previo:  0.9807118711473454\n"
     ]
    }
   ],
   "source": [
    "print(\"Primera modificación: \", accM1, \"\\nSegunda Modificación: \", accM2,\"\\nValor Previo: \", accMod3)"
   ]
  },
  {
   "cell_type": "markdown",
   "id": "f5ed8697",
   "metadata": {},
   "source": [
    "Como se puede notar con los valores previos, la implementación del hiperparámetro \"learning_rate\" tuvo un efecto negativo en la certeza del modelo, en el peor caso se disminuyó dicha certeza un ~6.79%, y en el otro caso un ~0.07%"
   ]
  }
 ],
 "metadata": {
  "kernelspec": {
   "display_name": "Python 3 (ipykernel)",
   "language": "python",
   "name": "python3"
  },
  "language_info": {
   "codemirror_mode": {
    "name": "ipython",
    "version": 3
   },
   "file_extension": ".py",
   "mimetype": "text/x-python",
   "name": "python",
   "nbconvert_exporter": "python",
   "pygments_lexer": "ipython3",
   "version": "3.9.12"
  }
 },
 "nbformat": 4,
 "nbformat_minor": 5
}
