{
 "cells": [
  {
   "cell_type": "markdown",
   "id": "cb1bd3fa",
   "metadata": {},
   "source": [
    "# Informe #1 sobre Machine Learning:\n",
    "## Redes neuronales\n",
    "William A. Ballesteros, Lina Duque, Esteban Lopez"
   ]
  },
  {
   "cell_type": "code",
   "execution_count": 1,
   "id": "e9027928",
   "metadata": {},
   "outputs": [],
   "source": [
    "import numpy as np\n",
    "import pandas as pd\n",
    "import sklearn\n",
    "import warnings"
   ]
  },
  {
   "cell_type": "markdown",
   "id": "408e8525",
   "metadata": {},
   "source": [
    "Cargamos el archivo \"games.csv\""
   ]
  },
  {
   "cell_type": "code",
   "execution_count": 2,
   "id": "0a0fb0a6",
   "metadata": {},
   "outputs": [],
   "source": [
    "fileToRead = r\"C:\\Users\\zense\\Desktop\\Informe ML IA\\games.csv\"\n",
    "data = pd.read_csv(fileToRead, sep = \";\")\n",
    "data.columns = [\"gameDuration\",\n",
    "                \"firstBlood\", \n",
    "                \"firstTower\", \n",
    "                \"firstInhibitor\", \n",
    "                \"firstBaron\", \n",
    "                \"firstDragon\", \n",
    "                \"firstRiftHerald\", \n",
    "                \"t1_towerKills\", \n",
    "                \"t1_inhibitorKills\", \n",
    "                \"t1_baronKills\", \n",
    "                \"t1_dragonKills\", \n",
    "                \"t1_riftHeraldKills\", \n",
    "                \"t2_towerKills\",\n",
    "                \"t2_inhibitorKills\",\n",
    "                \"t2_baronKills\",\n",
    "                \"t2_dragonKills\",\n",
    "                \"t2_riftHeraldKills\",\n",
    "                \"winner\"]"
   ]
  },
  {
   "cell_type": "code",
   "execution_count": 3,
   "id": "dcf78511",
   "metadata": {},
   "outputs": [
    {
     "name": "stdout",
     "output_type": "stream",
     "text": [
      "<class 'pandas.core.frame.DataFrame'>\n",
      "RangeIndex: 50286 entries, 0 to 50285\n",
      "Data columns (total 18 columns):\n",
      " #   Column              Non-Null Count  Dtype\n",
      "---  ------              --------------  -----\n",
      " 0   gameDuration        50286 non-null  int64\n",
      " 1   firstBlood          50286 non-null  int64\n",
      " 2   firstTower          50286 non-null  int64\n",
      " 3   firstInhibitor      50286 non-null  int64\n",
      " 4   firstBaron          50286 non-null  int64\n",
      " 5   firstDragon         50286 non-null  int64\n",
      " 6   firstRiftHerald     50286 non-null  int64\n",
      " 7   t1_towerKills       50286 non-null  int64\n",
      " 8   t1_inhibitorKills   50286 non-null  int64\n",
      " 9   t1_baronKills       50286 non-null  int64\n",
      " 10  t1_dragonKills      50286 non-null  int64\n",
      " 11  t1_riftHeraldKills  50286 non-null  int64\n",
      " 12  t2_towerKills       50286 non-null  int64\n",
      " 13  t2_inhibitorKills   50286 non-null  int64\n",
      " 14  t2_baronKills       50286 non-null  int64\n",
      " 15  t2_dragonKills      50286 non-null  int64\n",
      " 16  t2_riftHeraldKills  50286 non-null  int64\n",
      " 17  winner              50286 non-null  int64\n",
      "dtypes: int64(18)\n",
      "memory usage: 6.9 MB\n"
     ]
    }
   ],
   "source": [
    "data.info()"
   ]
  },
  {
   "cell_type": "code",
   "execution_count": 4,
   "id": "5cf96abc",
   "metadata": {},
   "outputs": [
    {
     "data": {
      "text/html": [
       "<div>\n",
       "<style scoped>\n",
       "    .dataframe tbody tr th:only-of-type {\n",
       "        vertical-align: middle;\n",
       "    }\n",
       "\n",
       "    .dataframe tbody tr th {\n",
       "        vertical-align: top;\n",
       "    }\n",
       "\n",
       "    .dataframe thead th {\n",
       "        text-align: right;\n",
       "    }\n",
       "</style>\n",
       "<table border=\"1\" class=\"dataframe\">\n",
       "  <thead>\n",
       "    <tr style=\"text-align: right;\">\n",
       "      <th></th>\n",
       "      <th>gameDuration</th>\n",
       "      <th>firstBlood</th>\n",
       "      <th>firstTower</th>\n",
       "      <th>firstInhibitor</th>\n",
       "      <th>firstBaron</th>\n",
       "      <th>firstDragon</th>\n",
       "      <th>firstRiftHerald</th>\n",
       "      <th>t1_towerKills</th>\n",
       "      <th>t1_inhibitorKills</th>\n",
       "      <th>t1_baronKills</th>\n",
       "      <th>t1_dragonKills</th>\n",
       "      <th>t1_riftHeraldKills</th>\n",
       "      <th>t2_towerKills</th>\n",
       "      <th>t2_inhibitorKills</th>\n",
       "      <th>t2_baronKills</th>\n",
       "      <th>t2_dragonKills</th>\n",
       "      <th>t2_riftHeraldKills</th>\n",
       "      <th>winner</th>\n",
       "    </tr>\n",
       "  </thead>\n",
       "  <tbody>\n",
       "    <tr>\n",
       "      <th>count</th>\n",
       "      <td>50286.000000</td>\n",
       "      <td>50286.000000</td>\n",
       "      <td>50286.000000</td>\n",
       "      <td>50286.000000</td>\n",
       "      <td>50286.000000</td>\n",
       "      <td>50286.000000</td>\n",
       "      <td>50286.000000</td>\n",
       "      <td>50286.000000</td>\n",
       "      <td>50286.000000</td>\n",
       "      <td>50286.000000</td>\n",
       "      <td>50286.000000</td>\n",
       "      <td>50286.000000</td>\n",
       "      <td>50286.000000</td>\n",
       "      <td>50286.000000</td>\n",
       "      <td>50286.000000</td>\n",
       "      <td>50286.000000</td>\n",
       "      <td>50286.000000</td>\n",
       "      <td>50286.000000</td>\n",
       "    </tr>\n",
       "    <tr>\n",
       "      <th>mean</th>\n",
       "      <td>1871.386032</td>\n",
       "      <td>1.487233</td>\n",
       "      <td>1.485125</td>\n",
       "      <td>1.339578</td>\n",
       "      <td>0.948693</td>\n",
       "      <td>1.477270</td>\n",
       "      <td>0.749195</td>\n",
       "      <td>5.835163</td>\n",
       "      <td>1.041781</td>\n",
       "      <td>0.381200</td>\n",
       "      <td>1.420356</td>\n",
       "      <td>0.257487</td>\n",
       "      <td>5.681999</td>\n",
       "      <td>1.008611</td>\n",
       "      <td>0.424472</td>\n",
       "      <td>1.437975</td>\n",
       "      <td>0.245854</td>\n",
       "      <td>1.493776</td>\n",
       "    </tr>\n",
       "    <tr>\n",
       "      <th>std</th>\n",
       "      <td>450.876052</td>\n",
       "      <td>0.499842</td>\n",
       "      <td>0.500499</td>\n",
       "      <td>0.652960</td>\n",
       "      <td>0.838988</td>\n",
       "      <td>0.530346</td>\n",
       "      <td>0.824393</td>\n",
       "      <td>3.740575</td>\n",
       "      <td>1.269064</td>\n",
       "      <td>0.588001</td>\n",
       "      <td>1.201740</td>\n",
       "      <td>0.437254</td>\n",
       "      <td>3.809336</td>\n",
       "      <td>1.261867</td>\n",
       "      <td>0.617672</td>\n",
       "      <td>1.219412</td>\n",
       "      <td>0.430597</td>\n",
       "      <td>0.499966</td>\n",
       "    </tr>\n",
       "    <tr>\n",
       "      <th>min</th>\n",
       "      <td>610.000000</td>\n",
       "      <td>1.000000</td>\n",
       "      <td>0.000000</td>\n",
       "      <td>0.000000</td>\n",
       "      <td>0.000000</td>\n",
       "      <td>0.000000</td>\n",
       "      <td>0.000000</td>\n",
       "      <td>0.000000</td>\n",
       "      <td>0.000000</td>\n",
       "      <td>0.000000</td>\n",
       "      <td>0.000000</td>\n",
       "      <td>0.000000</td>\n",
       "      <td>0.000000</td>\n",
       "      <td>0.000000</td>\n",
       "      <td>0.000000</td>\n",
       "      <td>0.000000</td>\n",
       "      <td>0.000000</td>\n",
       "      <td>1.000000</td>\n",
       "    </tr>\n",
       "    <tr>\n",
       "      <th>25%</th>\n",
       "      <td>1554.000000</td>\n",
       "      <td>1.000000</td>\n",
       "      <td>1.000000</td>\n",
       "      <td>1.000000</td>\n",
       "      <td>0.000000</td>\n",
       "      <td>1.000000</td>\n",
       "      <td>0.000000</td>\n",
       "      <td>2.000000</td>\n",
       "      <td>0.000000</td>\n",
       "      <td>0.000000</td>\n",
       "      <td>0.000000</td>\n",
       "      <td>0.000000</td>\n",
       "      <td>2.000000</td>\n",
       "      <td>0.000000</td>\n",
       "      <td>0.000000</td>\n",
       "      <td>0.000000</td>\n",
       "      <td>0.000000</td>\n",
       "      <td>1.000000</td>\n",
       "    </tr>\n",
       "    <tr>\n",
       "      <th>50%</th>\n",
       "      <td>1846.000000</td>\n",
       "      <td>1.000000</td>\n",
       "      <td>1.000000</td>\n",
       "      <td>1.000000</td>\n",
       "      <td>1.000000</td>\n",
       "      <td>1.000000</td>\n",
       "      <td>1.000000</td>\n",
       "      <td>6.000000</td>\n",
       "      <td>1.000000</td>\n",
       "      <td>0.000000</td>\n",
       "      <td>1.000000</td>\n",
       "      <td>0.000000</td>\n",
       "      <td>6.000000</td>\n",
       "      <td>0.000000</td>\n",
       "      <td>0.000000</td>\n",
       "      <td>1.000000</td>\n",
       "      <td>0.000000</td>\n",
       "      <td>1.000000</td>\n",
       "    </tr>\n",
       "    <tr>\n",
       "      <th>75%</th>\n",
       "      <td>2156.750000</td>\n",
       "      <td>2.000000</td>\n",
       "      <td>2.000000</td>\n",
       "      <td>2.000000</td>\n",
       "      <td>2.000000</td>\n",
       "      <td>2.000000</td>\n",
       "      <td>1.000000</td>\n",
       "      <td>9.000000</td>\n",
       "      <td>2.000000</td>\n",
       "      <td>1.000000</td>\n",
       "      <td>2.000000</td>\n",
       "      <td>1.000000</td>\n",
       "      <td>9.000000</td>\n",
       "      <td>2.000000</td>\n",
       "      <td>1.000000</td>\n",
       "      <td>2.000000</td>\n",
       "      <td>0.000000</td>\n",
       "      <td>2.000000</td>\n",
       "    </tr>\n",
       "    <tr>\n",
       "      <th>max</th>\n",
       "      <td>4728.000000</td>\n",
       "      <td>2.000000</td>\n",
       "      <td>2.000000</td>\n",
       "      <td>2.000000</td>\n",
       "      <td>2.000000</td>\n",
       "      <td>2.000000</td>\n",
       "      <td>2.000000</td>\n",
       "      <td>11.000000</td>\n",
       "      <td>10.000000</td>\n",
       "      <td>5.000000</td>\n",
       "      <td>6.000000</td>\n",
       "      <td>1.000000</td>\n",
       "      <td>11.000000</td>\n",
       "      <td>10.000000</td>\n",
       "      <td>4.000000</td>\n",
       "      <td>6.000000</td>\n",
       "      <td>1.000000</td>\n",
       "      <td>2.000000</td>\n",
       "    </tr>\n",
       "  </tbody>\n",
       "</table>\n",
       "</div>"
      ],
      "text/plain": [
       "       gameDuration    firstBlood    firstTower  firstInhibitor    firstBaron  \\\n",
       "count  50286.000000  50286.000000  50286.000000    50286.000000  50286.000000   \n",
       "mean    1871.386032      1.487233      1.485125        1.339578      0.948693   \n",
       "std      450.876052      0.499842      0.500499        0.652960      0.838988   \n",
       "min      610.000000      1.000000      0.000000        0.000000      0.000000   \n",
       "25%     1554.000000      1.000000      1.000000        1.000000      0.000000   \n",
       "50%     1846.000000      1.000000      1.000000        1.000000      1.000000   \n",
       "75%     2156.750000      2.000000      2.000000        2.000000      2.000000   \n",
       "max     4728.000000      2.000000      2.000000        2.000000      2.000000   \n",
       "\n",
       "        firstDragon  firstRiftHerald  t1_towerKills  t1_inhibitorKills  \\\n",
       "count  50286.000000     50286.000000   50286.000000       50286.000000   \n",
       "mean       1.477270         0.749195       5.835163           1.041781   \n",
       "std        0.530346         0.824393       3.740575           1.269064   \n",
       "min        0.000000         0.000000       0.000000           0.000000   \n",
       "25%        1.000000         0.000000       2.000000           0.000000   \n",
       "50%        1.000000         1.000000       6.000000           1.000000   \n",
       "75%        2.000000         1.000000       9.000000           2.000000   \n",
       "max        2.000000         2.000000      11.000000          10.000000   \n",
       "\n",
       "       t1_baronKills  t1_dragonKills  t1_riftHeraldKills  t2_towerKills  \\\n",
       "count   50286.000000    50286.000000        50286.000000   50286.000000   \n",
       "mean        0.381200        1.420356            0.257487       5.681999   \n",
       "std         0.588001        1.201740            0.437254       3.809336   \n",
       "min         0.000000        0.000000            0.000000       0.000000   \n",
       "25%         0.000000        0.000000            0.000000       2.000000   \n",
       "50%         0.000000        1.000000            0.000000       6.000000   \n",
       "75%         1.000000        2.000000            1.000000       9.000000   \n",
       "max         5.000000        6.000000            1.000000      11.000000   \n",
       "\n",
       "       t2_inhibitorKills  t2_baronKills  t2_dragonKills  t2_riftHeraldKills  \\\n",
       "count       50286.000000   50286.000000    50286.000000        50286.000000   \n",
       "mean            1.008611       0.424472        1.437975            0.245854   \n",
       "std             1.261867       0.617672        1.219412            0.430597   \n",
       "min             0.000000       0.000000        0.000000            0.000000   \n",
       "25%             0.000000       0.000000        0.000000            0.000000   \n",
       "50%             0.000000       0.000000        1.000000            0.000000   \n",
       "75%             2.000000       1.000000        2.000000            0.000000   \n",
       "max            10.000000       4.000000        6.000000            1.000000   \n",
       "\n",
       "             winner  \n",
       "count  50286.000000  \n",
       "mean       1.493776  \n",
       "std        0.499966  \n",
       "min        1.000000  \n",
       "25%        1.000000  \n",
       "50%        1.000000  \n",
       "75%        2.000000  \n",
       "max        2.000000  "
      ]
     },
     "execution_count": 4,
     "metadata": {},
     "output_type": "execute_result"
    }
   ],
   "source": [
    "data.select_dtypes(include=['int64']).describe()"
   ]
  },
  {
   "cell_type": "markdown",
   "id": "bae03643",
   "metadata": {},
   "source": [
    "# Se separan los datos en entrenamiento y prueba"
   ]
  },
  {
   "cell_type": "code",
   "execution_count": 5,
   "id": "c29d2adf",
   "metadata": {},
   "outputs": [
    {
     "name": "stdout",
     "output_type": "stream",
     "text": [
      "50286 40228 10058\n"
     ]
    }
   ],
   "source": [
    "from sklearn.model_selection import train_test_split\n",
    "N = len(data)\n",
    "cTrain = int(N*0.8)\n",
    "cTest = N-cTrain\n",
    "print(N, cTrain, cTest)\n",
    "train_data, test_data = sklearn.model_selection.train_test_split(data, train_size = cTrain, test_size = cTest)"
   ]
  },
  {
   "cell_type": "code",
   "execution_count": 6,
   "id": "1ffcc571",
   "metadata": {},
   "outputs": [
    {
     "data": {
      "text/plain": [
       "(40228, 18)"
      ]
     },
     "execution_count": 6,
     "metadata": {},
     "output_type": "execute_result"
    }
   ],
   "source": [
    "train_data.shape"
   ]
  },
  {
   "cell_type": "code",
   "execution_count": 7,
   "id": "6098195b",
   "metadata": {},
   "outputs": [
    {
     "data": {
      "text/html": [
       "<div>\n",
       "<style scoped>\n",
       "    .dataframe tbody tr th:only-of-type {\n",
       "        vertical-align: middle;\n",
       "    }\n",
       "\n",
       "    .dataframe tbody tr th {\n",
       "        vertical-align: top;\n",
       "    }\n",
       "\n",
       "    .dataframe thead th {\n",
       "        text-align: right;\n",
       "    }\n",
       "</style>\n",
       "<table border=\"1\" class=\"dataframe\">\n",
       "  <thead>\n",
       "    <tr style=\"text-align: right;\">\n",
       "      <th></th>\n",
       "      <th>gameDuration</th>\n",
       "      <th>firstBlood</th>\n",
       "      <th>firstTower</th>\n",
       "      <th>firstInhibitor</th>\n",
       "      <th>firstBaron</th>\n",
       "      <th>firstDragon</th>\n",
       "      <th>firstRiftHerald</th>\n",
       "      <th>t1_towerKills</th>\n",
       "      <th>t1_inhibitorKills</th>\n",
       "      <th>t1_baronKills</th>\n",
       "      <th>t1_dragonKills</th>\n",
       "      <th>t1_riftHeraldKills</th>\n",
       "      <th>t2_towerKills</th>\n",
       "      <th>t2_inhibitorKills</th>\n",
       "      <th>t2_baronKills</th>\n",
       "      <th>t2_dragonKills</th>\n",
       "      <th>t2_riftHeraldKills</th>\n",
       "      <th>winner</th>\n",
       "    </tr>\n",
       "  </thead>\n",
       "  <tbody>\n",
       "    <tr>\n",
       "      <th>15272</th>\n",
       "      <td>1860</td>\n",
       "      <td>2</td>\n",
       "      <td>2</td>\n",
       "      <td>1</td>\n",
       "      <td>1</td>\n",
       "      <td>2</td>\n",
       "      <td>1</td>\n",
       "      <td>11</td>\n",
       "      <td>4</td>\n",
       "      <td>1</td>\n",
       "      <td>2</td>\n",
       "      <td>1</td>\n",
       "      <td>1</td>\n",
       "      <td>0</td>\n",
       "      <td>0</td>\n",
       "      <td>1</td>\n",
       "      <td>0</td>\n",
       "      <td>1</td>\n",
       "    </tr>\n",
       "    <tr>\n",
       "      <th>11002</th>\n",
       "      <td>2471</td>\n",
       "      <td>1</td>\n",
       "      <td>1</td>\n",
       "      <td>1</td>\n",
       "      <td>2</td>\n",
       "      <td>2</td>\n",
       "      <td>0</td>\n",
       "      <td>8</td>\n",
       "      <td>2</td>\n",
       "      <td>0</td>\n",
       "      <td>2</td>\n",
       "      <td>0</td>\n",
       "      <td>8</td>\n",
       "      <td>1</td>\n",
       "      <td>1</td>\n",
       "      <td>1</td>\n",
       "      <td>0</td>\n",
       "      <td>2</td>\n",
       "    </tr>\n",
       "    <tr>\n",
       "      <th>23252</th>\n",
       "      <td>1392</td>\n",
       "      <td>1</td>\n",
       "      <td>1</td>\n",
       "      <td>1</td>\n",
       "      <td>0</td>\n",
       "      <td>1</td>\n",
       "      <td>0</td>\n",
       "      <td>11</td>\n",
       "      <td>3</td>\n",
       "      <td>0</td>\n",
       "      <td>2</td>\n",
       "      <td>0</td>\n",
       "      <td>0</td>\n",
       "      <td>0</td>\n",
       "      <td>0</td>\n",
       "      <td>0</td>\n",
       "      <td>0</td>\n",
       "      <td>1</td>\n",
       "    </tr>\n",
       "    <tr>\n",
       "      <th>2331</th>\n",
       "      <td>2332</td>\n",
       "      <td>1</td>\n",
       "      <td>2</td>\n",
       "      <td>2</td>\n",
       "      <td>2</td>\n",
       "      <td>2</td>\n",
       "      <td>0</td>\n",
       "      <td>4</td>\n",
       "      <td>0</td>\n",
       "      <td>1</td>\n",
       "      <td>1</td>\n",
       "      <td>0</td>\n",
       "      <td>6</td>\n",
       "      <td>2</td>\n",
       "      <td>1</td>\n",
       "      <td>3</td>\n",
       "      <td>0</td>\n",
       "      <td>2</td>\n",
       "    </tr>\n",
       "    <tr>\n",
       "      <th>28718</th>\n",
       "      <td>1418</td>\n",
       "      <td>1</td>\n",
       "      <td>1</td>\n",
       "      <td>1</td>\n",
       "      <td>1</td>\n",
       "      <td>2</td>\n",
       "      <td>1</td>\n",
       "      <td>9</td>\n",
       "      <td>2</td>\n",
       "      <td>1</td>\n",
       "      <td>1</td>\n",
       "      <td>1</td>\n",
       "      <td>3</td>\n",
       "      <td>0</td>\n",
       "      <td>0</td>\n",
       "      <td>1</td>\n",
       "      <td>0</td>\n",
       "      <td>1</td>\n",
       "    </tr>\n",
       "  </tbody>\n",
       "</table>\n",
       "</div>"
      ],
      "text/plain": [
       "       gameDuration  firstBlood  firstTower  firstInhibitor  firstBaron  \\\n",
       "15272          1860           2           2               1           1   \n",
       "11002          2471           1           1               1           2   \n",
       "23252          1392           1           1               1           0   \n",
       "2331           2332           1           2               2           2   \n",
       "28718          1418           1           1               1           1   \n",
       "\n",
       "       firstDragon  firstRiftHerald  t1_towerKills  t1_inhibitorKills  \\\n",
       "15272            2                1             11                  4   \n",
       "11002            2                0              8                  2   \n",
       "23252            1                0             11                  3   \n",
       "2331             2                0              4                  0   \n",
       "28718            2                1              9                  2   \n",
       "\n",
       "       t1_baronKills  t1_dragonKills  t1_riftHeraldKills  t2_towerKills  \\\n",
       "15272              1               2                   1              1   \n",
       "11002              0               2                   0              8   \n",
       "23252              0               2                   0              0   \n",
       "2331               1               1                   0              6   \n",
       "28718              1               1                   1              3   \n",
       "\n",
       "       t2_inhibitorKills  t2_baronKills  t2_dragonKills  t2_riftHeraldKills  \\\n",
       "15272                  0              0               1                   0   \n",
       "11002                  1              1               1                   0   \n",
       "23252                  0              0               0                   0   \n",
       "2331                   2              1               3                   0   \n",
       "28718                  0              0               1                   0   \n",
       "\n",
       "       winner  \n",
       "15272       1  \n",
       "11002       2  \n",
       "23252       1  \n",
       "2331        2  \n",
       "28718       1  "
      ]
     },
     "execution_count": 7,
     "metadata": {},
     "output_type": "execute_result"
    }
   ],
   "source": [
    "train_data.head()"
   ]
  },
  {
   "cell_type": "markdown",
   "id": "3b9fc601",
   "metadata": {},
   "source": [
    "# Pipeline para atributos numéricos"
   ]
  },
  {
   "cell_type": "code",
   "execution_count": 10,
   "id": "7b574114",
   "metadata": {},
   "outputs": [],
   "source": [
    "from sklearn.pipeline import Pipeline\n",
    "from sklearn.impute import SimpleImputer\n",
    "from sklearn.preprocessing import StandardScaler\n",
    "from sklearn.preprocessing import MinMaxScaler\n",
    "\n",
    "\n",
    "#11 Atributos Numericos\n",
    "num_attributes = ['gameDuration',  \n",
    "                  't1_towerKills',\n",
    "                  't1_inhibitorKills', \n",
    "                  't1_baronKills', \n",
    "                  't1_dragonKills', \n",
    "                  't1_riftHeraldKills', \n",
    "                  't2_towerKills', \n",
    "                  't2_inhibitorKills', \n",
    "                  't2_baronKills', \n",
    "                  't2_dragonKills', \n",
    "                  't2_riftHeraldKills']\n",
    "\n",
    "num_pipeline= Pipeline([\n",
    "        (\"imputer\", SimpleImputer(strategy=\"median\")),\n",
    "        (\"scaler\", StandardScaler()) \n",
    "    \n",
    "    ])"
   ]
  },
  {
   "cell_type": "markdown",
   "id": "9bf28ae7",
   "metadata": {},
   "source": [
    "# Pipeline para atributos categóricos"
   ]
  },
  {
   "cell_type": "code",
   "execution_count": 11,
   "id": "78cab487",
   "metadata": {},
   "outputs": [],
   "source": [
    "from sklearn.preprocessing import OneHotEncoder\n",
    "from sklearn.pipeline import Pipeline\n",
    "from sklearn.impute import SimpleImputer\n",
    "\n",
    "# 6 Atributos Categóricos\n",
    "cat_attributes = ['firstBlood',\n",
    "                  'firstTower', \n",
    "                  'firstInhibitor', \n",
    "                  'firstBaron',\n",
    "                  'firstDragon', \n",
    "                  'firstRiftHerald']\n",
    "\n",
    "cat_pipeline= Pipeline([\n",
    "        (\"imputer\", SimpleImputer(strategy=\"most_frequent\")),\n",
    "        (\"cat_encoder\", OneHotEncoder(sparse=False))\n",
    "    ])"
   ]
  },
  {
   "cell_type": "markdown",
   "id": "f4517f3d",
   "metadata": {},
   "source": [
    "# Se juntan los pipeline"
   ]
  },
  {
   "cell_type": "code",
   "execution_count": 13,
   "id": "fa0b1061",
   "metadata": {},
   "outputs": [],
   "source": [
    "from sklearn.compose import ColumnTransformer\n",
    "\n",
    "full_pipeline = ColumnTransformer([\n",
    "    (\"num\", num_pipeline, num_attributes),\n",
    "    (\"cat\", cat_pipeline, cat_attributes), \n",
    "])"
   ]
  },
  {
   "cell_type": "code",
   "execution_count": 14,
   "id": "c6646438",
   "metadata": {},
   "outputs": [],
   "source": [
    "X_train = full_pipeline.fit_transform(train_data)"
   ]
  },
  {
   "cell_type": "code",
   "execution_count": 15,
   "id": "2e2f7cdf",
   "metadata": {},
   "outputs": [
    {
     "data": {
      "text/plain": [
       "(40228, 28)"
      ]
     },
     "execution_count": 15,
     "metadata": {},
     "output_type": "execute_result"
    }
   ],
   "source": [
    "X_train.shape"
   ]
  },
  {
   "cell_type": "code",
   "execution_count": 16,
   "id": "4a541005",
   "metadata": {},
   "outputs": [
    {
     "data": {
      "text/plain": [
       "array([-0.02673434,  1.38044245,  2.33032748,  1.06109786,  0.48097889,\n",
       "        1.70026426, -1.22706879, -0.80073802, -0.68823314, -0.35980257,\n",
       "       -0.57034626,  0.        ,  1.        ,  0.        ,  0.        ,\n",
       "        1.        ,  0.        ,  1.        ,  0.        ,  0.        ,\n",
       "        1.        ,  0.        ,  0.        ,  0.        ,  1.        ,\n",
       "        0.        ,  1.        ,  0.        ])"
      ]
     },
     "execution_count": 16,
     "metadata": {},
     "output_type": "execute_result"
    }
   ],
   "source": [
    "X_train[0,:]"
   ]
  },
  {
   "cell_type": "code",
   "execution_count": 17,
   "id": "2fbf4cad",
   "metadata": {},
   "outputs": [
    {
     "data": {
      "text/plain": [
       "15272    1\n",
       "11002    2\n",
       "23252    1\n",
       "2331     2\n",
       "28718    1\n",
       "        ..\n",
       "45026    1\n",
       "9453     1\n",
       "18081    2\n",
       "6767     2\n",
       "17552    1\n",
       "Name: winner, Length: 40228, dtype: int64"
      ]
     },
     "execution_count": 17,
     "metadata": {},
     "output_type": "execute_result"
    }
   ],
   "source": [
    "y_train = train_data[\"winner\"]\n",
    "y_train"
   ]
  },
  {
   "cell_type": "markdown",
   "id": "5275961c",
   "metadata": {},
   "source": [
    "# Entrenamiento de las redes neuronales\n",
    "Se crean los cinco modelos"
   ]
  },
  {
   "cell_type": "markdown",
   "id": "c244cb73",
   "metadata": {},
   "source": [
    "### Modelo 1"
   ]
  },
  {
   "cell_type": "code",
   "execution_count": 18,
   "id": "66c19f05",
   "metadata": {},
   "outputs": [
    {
     "name": "stderr",
     "output_type": "stream",
     "text": [
      "C:\\Users\\zense\\.conda\\envs\\InformeIA\\lib\\site-packages\\sklearn\\neural_network\\_multilayer_perceptron.py:559: ConvergenceWarning: lbfgs failed to converge (status=1):\n",
      "STOP: TOTAL NO. of ITERATIONS REACHED LIMIT.\n",
      "\n",
      "Increase the number of iterations (max_iter) or scale the data as shown in:\n",
      "    https://scikit-learn.org/stable/modules/preprocessing.html\n",
      "  self.n_iter_ = _check_optimize_result(\"lbfgs\", opt_res, self.max_iter)\n",
      "C:\\Users\\zense\\.conda\\envs\\InformeIA\\lib\\site-packages\\sklearn\\neural_network\\_multilayer_perceptron.py:559: ConvergenceWarning: lbfgs failed to converge (status=1):\n",
      "STOP: TOTAL NO. of ITERATIONS REACHED LIMIT.\n",
      "\n",
      "Increase the number of iterations (max_iter) or scale the data as shown in:\n",
      "    https://scikit-learn.org/stable/modules/preprocessing.html\n",
      "  self.n_iter_ = _check_optimize_result(\"lbfgs\", opt_res, self.max_iter)\n",
      "C:\\Users\\zense\\.conda\\envs\\InformeIA\\lib\\site-packages\\sklearn\\neural_network\\_multilayer_perceptron.py:559: ConvergenceWarning: lbfgs failed to converge (status=1):\n",
      "STOP: TOTAL NO. of ITERATIONS REACHED LIMIT.\n",
      "\n",
      "Increase the number of iterations (max_iter) or scale the data as shown in:\n",
      "    https://scikit-learn.org/stable/modules/preprocessing.html\n",
      "  self.n_iter_ = _check_optimize_result(\"lbfgs\", opt_res, self.max_iter)\n",
      "C:\\Users\\zense\\.conda\\envs\\InformeIA\\lib\\site-packages\\sklearn\\neural_network\\_multilayer_perceptron.py:559: ConvergenceWarning: lbfgs failed to converge (status=1):\n",
      "STOP: TOTAL NO. of ITERATIONS REACHED LIMIT.\n",
      "\n",
      "Increase the number of iterations (max_iter) or scale the data as shown in:\n",
      "    https://scikit-learn.org/stable/modules/preprocessing.html\n",
      "  self.n_iter_ = _check_optimize_result(\"lbfgs\", opt_res, self.max_iter)\n",
      "C:\\Users\\zense\\.conda\\envs\\InformeIA\\lib\\site-packages\\sklearn\\neural_network\\_multilayer_perceptron.py:559: ConvergenceWarning: lbfgs failed to converge (status=1):\n",
      "STOP: TOTAL NO. of ITERATIONS REACHED LIMIT.\n",
      "\n",
      "Increase the number of iterations (max_iter) or scale the data as shown in:\n",
      "    https://scikit-learn.org/stable/modules/preprocessing.html\n",
      "  self.n_iter_ = _check_optimize_result(\"lbfgs\", opt_res, self.max_iter)\n"
     ]
    },
    {
     "name": "stdout",
     "output_type": "stream",
     "text": [
      "[-0.02224708 -0.02423565 -0.02398707 -0.02113114 -0.02386576]\n"
     ]
    },
    {
     "name": "stderr",
     "output_type": "stream",
     "text": [
      "C:\\Users\\zense\\.conda\\envs\\InformeIA\\lib\\site-packages\\sklearn\\neural_network\\_multilayer_perceptron.py:559: ConvergenceWarning: lbfgs failed to converge (status=1):\n",
      "STOP: TOTAL NO. of ITERATIONS REACHED LIMIT.\n",
      "\n",
      "Increase the number of iterations (max_iter) or scale the data as shown in:\n",
      "    https://scikit-learn.org/stable/modules/preprocessing.html\n",
      "  self.n_iter_ = _check_optimize_result(\"lbfgs\", opt_res, self.max_iter)\n"
     ]
    },
    {
     "data": {
      "text/plain": [
       "-0.023093338227503847"
      ]
     },
     "execution_count": 18,
     "metadata": {},
     "output_type": "execute_result"
    }
   ],
   "source": [
    "from sklearn.neural_network import MLPClassifier\n",
    "from sklearn.model_selection import cross_val_score\n",
    "\n",
    "modelo1 = MLPClassifier(activation='relu',solver='lbfgs', alpha=1e-5,hidden_layer_sizes=(3,5), random_state=123)\n",
    "modelo1.fit(X_train, y_train)\n",
    "scores1 = cross_val_score(modelo1, X_train, y_train, cv=5, scoring='neg_mean_absolute_error')\n",
    "print(scores1)\n",
    "scores1.mean()"
   ]
  },
  {
   "cell_type": "markdown",
   "id": "8d5a7660",
   "metadata": {},
   "source": [
    "### Modelo 2"
   ]
  },
  {
   "cell_type": "code",
   "execution_count": 19,
   "id": "92bd33db",
   "metadata": {
    "scrolled": true
   },
   "outputs": [
    {
     "name": "stderr",
     "output_type": "stream",
     "text": [
      "C:\\Users\\zense\\.conda\\envs\\InformeIA\\lib\\site-packages\\sklearn\\neural_network\\_multilayer_perceptron.py:702: ConvergenceWarning: Stochastic Optimizer: Maximum iterations (200) reached and the optimization hasn't converged yet.\n",
      "  warnings.warn(\n",
      "C:\\Users\\zense\\.conda\\envs\\InformeIA\\lib\\site-packages\\sklearn\\neural_network\\_multilayer_perceptron.py:702: ConvergenceWarning: Stochastic Optimizer: Maximum iterations (200) reached and the optimization hasn't converged yet.\n",
      "  warnings.warn(\n",
      "C:\\Users\\zense\\.conda\\envs\\InformeIA\\lib\\site-packages\\sklearn\\neural_network\\_multilayer_perceptron.py:702: ConvergenceWarning: Stochastic Optimizer: Maximum iterations (200) reached and the optimization hasn't converged yet.\n",
      "  warnings.warn(\n",
      "C:\\Users\\zense\\.conda\\envs\\InformeIA\\lib\\site-packages\\sklearn\\neural_network\\_multilayer_perceptron.py:702: ConvergenceWarning: Stochastic Optimizer: Maximum iterations (200) reached and the optimization hasn't converged yet.\n",
      "  warnings.warn(\n"
     ]
    },
    {
     "name": "stdout",
     "output_type": "stream",
     "text": [
      "[-0.0254785  -0.02597564 -0.02361422 -0.02150404 -0.02436296]\n"
     ]
    },
    {
     "name": "stderr",
     "output_type": "stream",
     "text": [
      "C:\\Users\\zense\\.conda\\envs\\InformeIA\\lib\\site-packages\\sklearn\\neural_network\\_multilayer_perceptron.py:702: ConvergenceWarning: Stochastic Optimizer: Maximum iterations (200) reached and the optimization hasn't converged yet.\n",
      "  warnings.warn(\n"
     ]
    },
    {
     "data": {
      "text/plain": [
       "-0.024187071016607893"
      ]
     },
     "execution_count": 19,
     "metadata": {},
     "output_type": "execute_result"
    }
   ],
   "source": [
    "modelo2 = MLPClassifier(activation='relu',solver='sgd', alpha=1e-5,hidden_layer_sizes=(2,5,3), random_state=123)\n",
    "modelo2.fit(X_train, y_train)\n",
    "scores2 = cross_val_score(modelo2, X_train, y_train, cv=5, scoring='neg_mean_absolute_error')\n",
    "print(scores2)\n",
    "scores2.mean()"
   ]
  },
  {
   "cell_type": "markdown",
   "id": "3597216f",
   "metadata": {},
   "source": [
    "### Modelo 3"
   ]
  },
  {
   "cell_type": "code",
   "execution_count": 31,
   "id": "9654c50e",
   "metadata": {},
   "outputs": [
    {
     "name": "stdout",
     "output_type": "stream",
     "text": [
      "[-0.02025851 -0.02411136 -0.02000994 -0.02200124 -0.02336855]\n"
     ]
    },
    {
     "data": {
      "text/plain": [
       "-0.021949922192267057"
      ]
     },
     "execution_count": 31,
     "metadata": {},
     "output_type": "execute_result"
    }
   ],
   "source": [
    "modelo3 = MLPClassifier(activation='relu',solver='sgd', alpha=1e-5,hidden_layer_sizes=(12,22,35,17), random_state=123)\n",
    "modelo3.fit(X_train, y_train)\n",
    "scores3 = cross_val_score(modelo3, X_train, y_train, cv=5, scoring='neg_mean_absolute_error')\n",
    "print(scores3)\n",
    "scores3.mean()"
   ]
  },
  {
   "cell_type": "markdown",
   "id": "dc7c7dec",
   "metadata": {},
   "source": [
    "### Modelo 4"
   ]
  },
  {
   "cell_type": "code",
   "execution_count": 32,
   "id": "42b74faa",
   "metadata": {},
   "outputs": [
    {
     "name": "stdout",
     "output_type": "stream",
     "text": [
      "[-0.02535421 -0.02473279 -0.02324136 -0.02262275 -0.02436296]\n"
     ]
    },
    {
     "data": {
      "text/plain": [
       "-0.024062813465210216"
      ]
     },
     "execution_count": 32,
     "metadata": {},
     "output_type": "execute_result"
    }
   ],
   "source": [
    "modelo4 = MLPClassifier(activation='relu',solver='sgd', alpha=1e-5,hidden_layer_sizes=(2,5,7,2), random_state=123)\n",
    "modelo4.fit(X_train, y_train)\n",
    "scores4 = cross_val_score(modelo4, X_train, y_train, cv=5, scoring='neg_mean_absolute_error')\n",
    "print(scores4)\n",
    "scores4.mean()"
   ]
  },
  {
   "cell_type": "markdown",
   "id": "c0bcf7b6",
   "metadata": {},
   "source": [
    "### Modelo 5"
   ]
  },
  {
   "cell_type": "code",
   "execution_count": 33,
   "id": "abccdb15",
   "metadata": {},
   "outputs": [
    {
     "name": "stdout",
     "output_type": "stream",
     "text": [
      "[-0.49465573 -0.49478001 -0.49478001 -0.49471722 -0.49471722]\n"
     ]
    },
    {
     "data": {
      "text/plain": [
       "-0.49473003814146965"
      ]
     },
     "execution_count": 33,
     "metadata": {},
     "output_type": "execute_result"
    }
   ],
   "source": [
    "modelo5 = MLPClassifier(activation='relu',solver='sgd', alpha=1e-5,hidden_layer_sizes=(4,2,8,3,7), random_state=123)\n",
    "modelo5.fit(X_train, y_train)\n",
    "scores5 = cross_val_score(modelo5, X_train, y_train, cv=5, scoring='neg_mean_absolute_error')\n",
    "print(scores5)\n",
    "scores5.mean()"
   ]
  },
  {
   "cell_type": "markdown",
   "id": "08a5a6a1",
   "metadata": {},
   "source": [
    "# Se usan los modelos en el conjunto de prueba"
   ]
  },
  {
   "cell_type": "code",
   "execution_count": 34,
   "id": "075ee722",
   "metadata": {},
   "outputs": [
    {
     "data": {
      "text/plain": [
       "array([[-1.26908062, -0.22265715, -0.82016281, ...,  0.        ,\n",
       "         1.        ,  0.        ],\n",
       "       [-0.18175081,  0.57889265, -0.03254024, ...,  0.        ,\n",
       "         1.        ,  0.        ],\n",
       "       [-0.38327222, -1.55857348, -0.82016281, ...,  1.        ,\n",
       "         0.        ,  0.        ],\n",
       "       ...,\n",
       "       [-0.79295861,  0.57889265,  1.5427049 , ...,  0.        ,\n",
       "         1.        ,  0.        ],\n",
       "       [ 0.14821282, -0.22265715, -0.03254024, ...,  1.        ,\n",
       "         0.        ,  0.        ],\n",
       "       [ 0.40066822,  0.04452612, -0.03254024, ...,  1.        ,\n",
       "         0.        ,  0.        ]])"
      ]
     },
     "execution_count": 34,
     "metadata": {},
     "output_type": "execute_result"
    }
   ],
   "source": [
    "X_test = full_pipeline.transform(test_data)\n",
    "X_test"
   ]
  },
  {
   "cell_type": "code",
   "execution_count": 35,
   "id": "459601b2",
   "metadata": {},
   "outputs": [
    {
     "data": {
      "text/plain": [
       "array([1, 1, 2, ..., 1, 1, 2], dtype=int64)"
      ]
     },
     "execution_count": 35,
     "metadata": {},
     "output_type": "execute_result"
    }
   ],
   "source": [
    "y_pred1 = modelo1.predict(X_test)\n",
    "y_pred1"
   ]
  },
  {
   "cell_type": "code",
   "execution_count": 36,
   "id": "87075560",
   "metadata": {},
   "outputs": [
    {
     "data": {
      "text/plain": [
       "array([1, 1, 2, ..., 1, 1, 2], dtype=int64)"
      ]
     },
     "execution_count": 36,
     "metadata": {},
     "output_type": "execute_result"
    }
   ],
   "source": [
    "y_pred2 = modelo2.predict(X_test)\n",
    "y_pred2"
   ]
  },
  {
   "cell_type": "code",
   "execution_count": 37,
   "id": "c47e2c34",
   "metadata": {},
   "outputs": [
    {
     "data": {
      "text/plain": [
       "array([1, 1, 2, ..., 1, 1, 2], dtype=int64)"
      ]
     },
     "execution_count": 37,
     "metadata": {},
     "output_type": "execute_result"
    }
   ],
   "source": [
    "y_pred3 = modelo3.predict(X_test)\n",
    "y_pred3"
   ]
  },
  {
   "cell_type": "code",
   "execution_count": 38,
   "id": "7445bfdd",
   "metadata": {},
   "outputs": [
    {
     "data": {
      "text/plain": [
       "array([1, 1, 2, ..., 1, 1, 2], dtype=int64)"
      ]
     },
     "execution_count": 38,
     "metadata": {},
     "output_type": "execute_result"
    }
   ],
   "source": [
    "y_pred4 = modelo4.predict(X_test)\n",
    "y_pred4"
   ]
  },
  {
   "cell_type": "code",
   "execution_count": 39,
   "id": "7ffd1425",
   "metadata": {},
   "outputs": [
    {
     "data": {
      "text/plain": [
       "array([1, 1, 1, ..., 1, 1, 1], dtype=int64)"
      ]
     },
     "execution_count": 39,
     "metadata": {},
     "output_type": "execute_result"
    }
   ],
   "source": [
    "y_pred5 = modelo5.predict(X_test)\n",
    "y_pred5"
   ]
  },
  {
   "cell_type": "code",
   "execution_count": 40,
   "id": "837bd358",
   "metadata": {},
   "outputs": [],
   "source": [
    "y_test = test_data[\"winner\"]"
   ]
  },
  {
   "cell_type": "code",
   "execution_count": 41,
   "id": "11c90bbe",
   "metadata": {},
   "outputs": [
    {
     "data": {
      "text/plain": [
       "26937    1\n",
       "22958    1\n",
       "20453    2\n",
       "47462    1\n",
       "12635    1\n",
       "        ..\n",
       "16354    1\n",
       "42854    2\n",
       "20999    1\n",
       "15831    1\n",
       "4738     2\n",
       "Name: winner, Length: 10058, dtype: int64"
      ]
     },
     "execution_count": 41,
     "metadata": {},
     "output_type": "execute_result"
    }
   ],
   "source": [
    "y_test"
   ]
  },
  {
   "cell_type": "code",
   "execution_count": 42,
   "id": "c64954cf",
   "metadata": {},
   "outputs": [
    {
     "name": "stdout",
     "output_type": "stream",
     "text": [
      "El error medio absoluto del modelo 1 es: 0.020580632332471663\n"
     ]
    }
   ],
   "source": [
    "from sklearn.metrics import mean_absolute_error\n",
    "mae = mean_absolute_error(\n",
    "        y_true  = y_test,\n",
    "        y_pred  = y_pred1\n",
    "       )\n",
    "print(f\"El error medio absoluto del modelo 1 es: {mae}\")"
   ]
  },
  {
   "cell_type": "code",
   "execution_count": 43,
   "id": "dae76b8c",
   "metadata": {},
   "outputs": [
    {
     "name": "stdout",
     "output_type": "stream",
     "text": [
      "El error medio absoluto del modelo 2 es: 0.0216742891230861\n"
     ]
    }
   ],
   "source": [
    "from sklearn.metrics import mean_absolute_error\n",
    "mae = mean_absolute_error(\n",
    "        y_true  = y_test,\n",
    "        y_pred  = y_pred2\n",
    "       )\n",
    "print(f\"El error medio absoluto del modelo 2 es: {mae}\")"
   ]
  },
  {
   "cell_type": "code",
   "execution_count": 44,
   "id": "ae940b86",
   "metadata": {},
   "outputs": [
    {
     "name": "stdout",
     "output_type": "stream",
     "text": [
      "El error medio absoluto del modelo 3 es: 0.01779677868363492\n"
     ]
    }
   ],
   "source": [
    "from sklearn.metrics import mean_absolute_error\n",
    "mae = mean_absolute_error(\n",
    "        y_true  = y_test,\n",
    "        y_pred  = y_pred3\n",
    "       )\n",
    "print(f\"El error medio absoluto del modelo 3 es: {mae}\")"
   ]
  },
  {
   "cell_type": "code",
   "execution_count": 45,
   "id": "79bc90cd",
   "metadata": {},
   "outputs": [
    {
     "name": "stdout",
     "output_type": "stream",
     "text": [
      "El error medio absoluto del modelo 2 es: 0.021773712467687414\n"
     ]
    }
   ],
   "source": [
    "from sklearn.metrics import mean_absolute_error\n",
    "mae = mean_absolute_error(\n",
    "        y_true  = y_test,\n",
    "        y_pred  = y_pred4\n",
    "       )\n",
    "print(f\"El error medio absoluto del modelo 2 es: {mae}\")"
   ]
  },
  {
   "cell_type": "code",
   "execution_count": 46,
   "id": "5f60fd04",
   "metadata": {},
   "outputs": [
    {
     "name": "stdout",
     "output_type": "stream",
     "text": [
      "El error medio absoluto del modelo 2 es: 0.48995824219526746\n"
     ]
    }
   ],
   "source": [
    "from sklearn.metrics import mean_absolute_error\n",
    "mae = mean_absolute_error(\n",
    "        y_true  = y_test,\n",
    "        y_pred  = y_pred5\n",
    "       )\n",
    "print(f\"El error medio absoluto del modelo 2 es: {mae}\")"
   ]
  },
  {
   "cell_type": "markdown",
   "id": "5d754772",
   "metadata": {},
   "source": [
    "# Se sacan los valores de accuracy"
   ]
  },
  {
   "cell_type": "code",
   "execution_count": 63,
   "id": "158bed62",
   "metadata": {},
   "outputs": [
    {
     "name": "stdout",
     "output_type": "stream",
     "text": [
      "0.9794193676675284\n"
     ]
    }
   ],
   "source": [
    "from sklearn.metrics import accuracy_score\n",
    "accMod1=accuracy_score(y_test, y_pred1)\n",
    "print(accMod1)"
   ]
  },
  {
   "cell_type": "code",
   "execution_count": 64,
   "id": "c5c38834",
   "metadata": {},
   "outputs": [
    {
     "name": "stdout",
     "output_type": "stream",
     "text": [
      "0.9783257108769139\n"
     ]
    }
   ],
   "source": [
    "from sklearn.metrics import accuracy_score\n",
    "accMod2=accuracy_score(y_test, y_pred2)\n",
    "print(accMod2)"
   ]
  },
  {
   "cell_type": "code",
   "execution_count": 65,
   "id": "d0402006",
   "metadata": {},
   "outputs": [
    {
     "name": "stdout",
     "output_type": "stream",
     "text": [
      "0.9822032213163651\n"
     ]
    }
   ],
   "source": [
    "from sklearn.metrics import accuracy_score\n",
    "accMod3=accuracy_score(y_test, y_pred3)\n",
    "print(accMod3)"
   ]
  },
  {
   "cell_type": "code",
   "execution_count": 66,
   "id": "f2af49d5",
   "metadata": {},
   "outputs": [
    {
     "name": "stdout",
     "output_type": "stream",
     "text": [
      "0.9782262875323126\n"
     ]
    }
   ],
   "source": [
    "from sklearn.metrics import accuracy_score\n",
    "accMod4=accuracy_score(y_test, y_pred4)\n",
    "print(accMod4)"
   ]
  },
  {
   "cell_type": "code",
   "execution_count": 67,
   "id": "9d142588",
   "metadata": {},
   "outputs": [
    {
     "name": "stdout",
     "output_type": "stream",
     "text": [
      "0.5100417578047326\n"
     ]
    }
   ],
   "source": [
    "from sklearn.metrics import accuracy_score\n",
    "accMod5=accuracy_score(y_test, y_pred5)\n",
    "print(accMod5)"
   ]
  },
  {
   "cell_type": "markdown",
   "id": "4f82f3bf",
   "metadata": {},
   "source": [
    "## Tabla con todas las _accuracies_ resumidas"
   ]
  },
  {
   "cell_type": "code",
   "execution_count": 68,
   "id": "5f20d7b1",
   "metadata": {},
   "outputs": [
    {
     "name": "stdout",
     "output_type": "stream",
     "text": [
      "  Número de Modelo  second_column\n",
      "0                1       0.979419\n",
      "1                2       0.978326\n",
      "2                3       0.982203\n",
      "3                4       0.978226\n",
      "4                5       0.510042\n"
     ]
    }
   ],
   "source": [
    "data = {'Número de Modelo':  ['1', '2', '3', '4', '5'],\n",
    "        'second_column': [accMod1, accMod2, accMod3, accMod4, accMod5]\n",
    "        }\n",
    "\n",
    "df = pd.DataFrame(data)\n",
    "\n",
    "print (df)"
   ]
  },
  {
   "cell_type": "markdown",
   "id": "69f15afc",
   "metadata": {},
   "source": [
    "# Se sacan las matrices de confusión"
   ]
  },
  {
   "cell_type": "code",
   "execution_count": 52,
   "id": "40e276f1",
   "metadata": {},
   "outputs": [
    {
     "data": {
      "text/plain": [
       "array([[5011,  119],\n",
       "       [  88, 4840]], dtype=int64)"
      ]
     },
     "execution_count": 52,
     "metadata": {},
     "output_type": "execute_result"
    }
   ],
   "source": [
    "from sklearn.metrics import confusion_matrix\n",
    "\n",
    "confusion_matrix1 = confusion_matrix(y_test, y_pred1)\n",
    "confusion_matrix1"
   ]
  },
  {
   "cell_type": "code",
   "execution_count": 58,
   "id": "307a123d",
   "metadata": {},
   "outputs": [
    {
     "data": {
      "image/png": "[encoded data removed]",
      "text/plain": [
       "<Figure size 432x288 with 2 Axes>"
      ]
     },
     "metadata": {
      "needs_background": "light"
     },
     "output_type": "display_data"
    }
   ],
   "source": [
    "%matplotlib inline\n",
    "import matplotlib.pyplot as plt\n",
    "import seaborn as sns\n",
    "\n",
    "ax = plt.subplot()\n",
    "sns.heatmap(confusion_matrix1, annot = True, ax = ax, fmt = 'd')\n",
    "\n",
    "ax.set_xlabel('Predicted labels')\n",
    "ax.set_ylabel('Actual labels')\n",
    "ax.set_title('Confusion Matrix - LOL Modelo 1')\n",
    "ax.yaxis.set_ticklabels(['Negative=0', 'Positive=1'])\n",
    "ax.xaxis.set_ticklabels(['Negative=0', 'Positive=1'])\n",
    "plt.show()"
   ]
  },
  {
   "cell_type": "code",
   "execution_count": 53,
   "id": "04c04487",
   "metadata": {},
   "outputs": [
    {
     "data": {
      "text/plain": [
       "array([[5020,  110],\n",
       "       [ 108, 4820]], dtype=int64)"
      ]
     },
     "execution_count": 53,
     "metadata": {},
     "output_type": "execute_result"
    }
   ],
   "source": [
    "from sklearn.metrics import confusion_matrix\n",
    "\n",
    "confusion_matrix2 = confusion_matrix(y_test, y_pred2)\n",
    "confusion_matrix2"
   ]
  },
  {
   "cell_type": "code",
   "execution_count": 69,
   "id": "9610e6fe",
   "metadata": {},
   "outputs": [
    {
     "data": {
      "image/png": "[encoded data removed]",
      "text/plain": [
       "<Figure size 432x288 with 2 Axes>"
      ]
     },
     "metadata": {
      "needs_background": "light"
     },
     "output_type": "display_data"
    }
   ],
   "source": [
    "%matplotlib inline\n",
    "import matplotlib.pyplot as plt\n",
    "import seaborn as sns\n",
    "\n",
    "ax = plt.subplot()\n",
    "sns.heatmap(confusion_matrix2, annot = True, ax = ax, fmt = 'd')\n",
    "\n",
    "ax.set_xlabel('Predicted labels')\n",
    "ax.set_ylabel('Actual labels')\n",
    "ax.set_title('Confusion Matrix - LOL Modelo 2')\n",
    "ax.yaxis.set_ticklabels(['Negative=0', 'Positive=1'])\n",
    "ax.xaxis.set_ticklabels(['Negative=0', 'Positive=1'])\n",
    "plt.show()"
   ]
  },
  {
   "cell_type": "code",
   "execution_count": 54,
   "id": "44950ae0",
   "metadata": {},
   "outputs": [
    {
     "data": {
      "text/plain": [
       "array([[5034,   96],\n",
       "       [  83, 4845]], dtype=int64)"
      ]
     },
     "execution_count": 54,
     "metadata": {},
     "output_type": "execute_result"
    }
   ],
   "source": [
    "from sklearn.metrics import confusion_matrix\n",
    "\n",
    "confusion_matrix3 = confusion_matrix(y_test, y_pred3)\n",
    "confusion_matrix3"
   ]
  },
  {
   "cell_type": "code",
   "execution_count": 70,
   "id": "eccf9238",
   "metadata": {},
   "outputs": [
    {
     "data": {
      "image/png": "[encoded data removed]",
      "text/plain": [
       "<Figure size 432x288 with 2 Axes>"
      ]
     },
     "metadata": {
      "needs_background": "light"
     },
     "output_type": "display_data"
    }
   ],
   "source": [
    "%matplotlib inline\n",
    "import matplotlib.pyplot as plt\n",
    "import seaborn as sns\n",
    "\n",
    "ax = plt.subplot()\n",
    "sns.heatmap(confusion_matrix3, annot = True, ax = ax, fmt = 'd')\n",
    "\n",
    "ax.set_xlabel('Predicted labels')\n",
    "ax.set_ylabel('Actual labels')\n",
    "ax.set_title('Confusion Matrix - LOL Modelo 3')\n",
    "ax.yaxis.set_ticklabels(['Negative=0', 'Positive=1'])\n",
    "ax.xaxis.set_ticklabels(['Negative=0', 'Positive=1'])\n",
    "plt.show()"
   ]
  },
  {
   "cell_type": "code",
   "execution_count": 55,
   "id": "0e809d8f",
   "metadata": {},
   "outputs": [
    {
     "data": {
      "text/plain": [
       "array([[5020,  110],\n",
       "       [ 109, 4819]], dtype=int64)"
      ]
     },
     "execution_count": 55,
     "metadata": {},
     "output_type": "execute_result"
    }
   ],
   "source": [
    "from sklearn.metrics import confusion_matrix\n",
    "\n",
    "confusion_matrix4 = confusion_matrix(y_test, y_pred4)\n",
    "confusion_matrix4"
   ]
  },
  {
   "cell_type": "code",
   "execution_count": 71,
   "id": "b1c0e647",
   "metadata": {},
   "outputs": [
    {
     "data": {
      "image/png": "[encoded data removed]",
      "text/plain": [
       "<Figure size 432x288 with 2 Axes>"
      ]
     },
     "metadata": {
      "needs_background": "light"
     },
     "output_type": "display_data"
    }
   ],
   "source": [
    "%matplotlib inline\n",
    "import matplotlib.pyplot as plt\n",
    "import seaborn as sns\n",
    "\n",
    "ax = plt.subplot()\n",
    "sns.heatmap(confusion_matrix4, annot = True, ax = ax, fmt = 'd')\n",
    "\n",
    "ax.set_xlabel('Predicted labels')\n",
    "ax.set_ylabel('Actual labels')\n",
    "ax.set_title('Confusion Matrix - LOL Modelo 4')\n",
    "ax.yaxis.set_ticklabels(['Negative=0', 'Positive=1'])\n",
    "ax.xaxis.set_ticklabels(['Negative=0', 'Positive=1'])\n",
    "plt.show()"
   ]
  },
  {
   "cell_type": "code",
   "execution_count": 56,
   "id": "c3231fa8",
   "metadata": {},
   "outputs": [
    {
     "data": {
      "text/plain": [
       "array([[5130,    0],\n",
       "       [4928,    0]], dtype=int64)"
      ]
     },
     "execution_count": 56,
     "metadata": {},
     "output_type": "execute_result"
    }
   ],
   "source": [
    "from sklearn.metrics import confusion_matrix\n",
    "\n",
    "confusion_matrix5 = confusion_matrix(y_test, y_pred5)\n",
    "confusion_matrix5"
   ]
  },
  {
   "cell_type": "code",
   "execution_count": 72,
   "id": "e7035e48",
   "metadata": {},
   "outputs": [
    {
     "data": {
      "image/png": "[encoded data removed]",
      "text/plain": [
       "<Figure size 432x288 with 2 Axes>"
      ]
     },
     "metadata": {
      "needs_background": "light"
     },
     "output_type": "display_data"
    }
   ],
   "source": [
    "%matplotlib inline\n",
    "import matplotlib.pyplot as plt\n",
    "import seaborn as sns\n",
    "\n",
    "ax = plt.subplot()\n",
    "sns.heatmap(confusion_matrix5, annot = True, ax = ax, fmt = 'd')\n",
    "\n",
    "#este es el modelo que hemos dejado con un accuracy muy bajo (51%),y aquí se evidencia como identifica efectivamente que\n",
    "#se encuentre lo predecido, o falla\n",
    "ax.set_xlabel('Predicted labels')\n",
    "ax.set_ylabel('Actual labels')\n",
    "ax.set_title('Confusion Matrix - LOL Modelo 5')\n",
    "ax.yaxis.set_ticklabels(['Negative=0', 'Positive=1'])\n",
    "ax.xaxis.set_ticklabels(['Negative=0', 'Positive=1'])\n",
    "plt.show()"
   ]
  },
  {
   "cell_type": "markdown",
   "id": "34540378",
   "metadata": {},
   "source": [
    "# Mejores Hiperparámetros hasta este momento\n",
    "#### Modelo 3\n",
    "activation='relu <br>\n",
    "solver='sgd'<br>\n",
    "alpha=1e-5<br>\n",
    "hidden_layer_sizes=(12,22,35,17)<br>\n",
    "random_state=123"
   ]
  },
  {
   "cell_type": "markdown",
   "id": "87fc6b57",
   "metadata": {},
   "source": [
    "# Se añade un hiperparámetro diferente"
   ]
  },
  {
   "cell_type": "markdown",
   "id": "d5444a7e",
   "metadata": {},
   "source": [
    "### Variación 1"
   ]
  },
  {
   "cell_type": "code",
   "execution_count": 75,
   "id": "cf4790ea",
   "metadata": {},
   "outputs": [
    {
     "data": {
      "text/html": [
       "<style>#sk-container-id-2 {color: black;background-color: white;}#sk-container-id-2 pre{padding: 0;}#sk-container-id-2 div.sk-toggleable {background-color: white;}#sk-container-id-2 label.sk-toggleable__label {cursor: pointer;display: block;width: 100%;margin-bottom: 0;padding: 0.3em;box-sizing: border-box;text-align: center;}#sk-container-id-2 label.sk-toggleable__label-arrow:before {content: \"▸\";float: left;margin-right: 0.25em;color: #696969;}#sk-container-id-2 label.sk-toggleable__label-arrow:hover:before {color: black;}#sk-container-id-2 div.sk-estimator:hover label.sk-toggleable__label-arrow:before {color: black;}#sk-container-id-2 div.sk-toggleable__content {max-height: 0;max-width: 0;overflow: hidden;text-align: left;background-color: #f0f8ff;}#sk-container-id-2 div.sk-toggleable__content pre {margin: 0.2em;color: black;border-radius: 0.25em;background-color: #f0f8ff;}#sk-container-id-2 input.sk-toggleable__control:checked~div.sk-toggleable__content {max-height: 200px;max-width: 100%;overflow: auto;}#sk-container-id-2 input.sk-toggleable__control:checked~label.sk-toggleable__label-arrow:before {content: \"▾\";}#sk-container-id-2 div.sk-estimator input.sk-toggleable__control:checked~label.sk-toggleable__label {background-color: #d4ebff;}#sk-container-id-2 div.sk-label input.sk-toggleable__control:checked~label.sk-toggleable__label {background-color: #d4ebff;}#sk-container-id-2 input.sk-hidden--visually {border: 0;clip: rect(1px 1px 1px 1px);clip: rect(1px, 1px, 1px, 1px);height: 1px;margin: -1px;overflow: hidden;padding: 0;position: absolute;width: 1px;}#sk-container-id-2 div.sk-estimator {font-family: monospace;background-color: #f0f8ff;border: 1px dotted black;border-radius: 0.25em;box-sizing: border-box;margin-bottom: 0.5em;}#sk-container-id-2 div.sk-estimator:hover {background-color: #d4ebff;}#sk-container-id-2 div.sk-parallel-item::after {content: \"\";width: 100%;border-bottom: 1px solid gray;flex-grow: 1;}#sk-container-id-2 div.sk-label:hover label.sk-toggleable__label {background-color: #d4ebff;}#sk-container-id-2 div.sk-serial::before {content: \"\";position: absolute;border-left: 1px solid gray;box-sizing: border-box;top: 0;bottom: 0;left: 50%;z-index: 0;}#sk-container-id-2 div.sk-serial {display: flex;flex-direction: column;align-items: center;background-color: white;padding-right: 0.2em;padding-left: 0.2em;position: relative;}#sk-container-id-2 div.sk-item {position: relative;z-index: 1;}#sk-container-id-2 div.sk-parallel {display: flex;align-items: stretch;justify-content: center;background-color: white;position: relative;}#sk-container-id-2 div.sk-item::before, #sk-container-id-2 div.sk-parallel-item::before {content: \"\";position: absolute;border-left: 1px solid gray;box-sizing: border-box;top: 0;bottom: 0;left: 50%;z-index: -1;}#sk-container-id-2 div.sk-parallel-item {display: flex;flex-direction: column;z-index: 1;position: relative;background-color: white;}#sk-container-id-2 div.sk-parallel-item:first-child::after {align-self: flex-end;width: 50%;}#sk-container-id-2 div.sk-parallel-item:last-child::after {align-self: flex-start;width: 50%;}#sk-container-id-2 div.sk-parallel-item:only-child::after {width: 0;}#sk-container-id-2 div.sk-dashed-wrapped {border: 1px dashed gray;margin: 0 0.4em 0.5em 0.4em;box-sizing: border-box;padding-bottom: 0.4em;background-color: white;}#sk-container-id-2 div.sk-label label {font-family: monospace;font-weight: bold;display: inline-block;line-height: 1.2em;}#sk-container-id-2 div.sk-label-container {text-align: center;}#sk-container-id-2 div.sk-container {/* jupyter's `normalize.less` sets `[hidden] { display: none; }` but bootstrap.min.css set `[hidden] { display: none !important; }` so we also need the `!important` here to be able to override the default hidden behavior on the sphinx rendered scikit-learn.org. See: https://github.com/scikit-learn/scikit-learn/issues/21755 */display: inline-block !important;position: relative;}#sk-container-id-2 div.sk-text-repr-fallback {display: none;}</style><div id=\"sk-container-id-2\" class=\"sk-top-container\"><div class=\"sk-text-repr-fallback\"><pre>MLPClassifier(alpha=1e-05, hidden_layer_sizes=(12, 22, 35, 17),\n",
       "              learning_rate=&#x27;invscaling&#x27;, random_state=123, solver=&#x27;sgd&#x27;)</pre><b>In a Jupyter environment, please rerun this cell to show the HTML representation or trust the notebook. <br />On GitHub, the HTML representation is unable to render, please try loading this page with nbviewer.org.</b></div><div class=\"sk-container\" hidden><div class=\"sk-item\"><div class=\"sk-estimator sk-toggleable\"><input class=\"sk-toggleable__control sk-hidden--visually\" id=\"sk-estimator-id-2\" type=\"checkbox\" checked><label for=\"sk-estimator-id-2\" class=\"sk-toggleable__label sk-toggleable__label-arrow\">MLPClassifier</label><div class=\"sk-toggleable__content\"><pre>MLPClassifier(alpha=1e-05, hidden_layer_sizes=(12, 22, 35, 17),\n",
       "              learning_rate=&#x27;invscaling&#x27;, random_state=123, solver=&#x27;sgd&#x27;)</pre></div></div></div></div></div>"
      ],
      "text/plain": [
       "MLPClassifier(alpha=1e-05, hidden_layer_sizes=(12, 22, 35, 17),\n",
       "              learning_rate='invscaling', random_state=123, solver='sgd')"
      ]
     },
     "execution_count": 75,
     "metadata": {},
     "output_type": "execute_result"
    }
   ],
   "source": [
    "modelo3Modified1 = MLPClassifier(activation='relu',solver='sgd', alpha=1e-5,hidden_layer_sizes=(12,22,35,17), random_state=123, learning_rate='invscaling')\n",
    "modelo3Modified1.fit(X_train, y_train)"
   ]
  },
  {
   "cell_type": "code",
   "execution_count": 83,
   "id": "fe6d4b1f",
   "metadata": {},
   "outputs": [
    {
     "name": "stdout",
     "output_type": "stream",
     "text": [
      "0.9168820839133028\n"
     ]
    }
   ],
   "source": [
    "y_pred1Mod3 = modelo3Modified.predict(X_test)\n",
    "accM1=accuracy_score(y_test, y_pred1Mod3)\n",
    "print(accM1)"
   ]
  },
  {
   "cell_type": "code",
   "execution_count": 76,
   "id": "390de9cd",
   "metadata": {},
   "outputs": [
    {
     "data": {
      "text/html": [
       "<style>#sk-container-id-3 {color: black;background-color: white;}#sk-container-id-3 pre{padding: 0;}#sk-container-id-3 div.sk-toggleable {background-color: white;}#sk-container-id-3 label.sk-toggleable__label {cursor: pointer;display: block;width: 100%;margin-bottom: 0;padding: 0.3em;box-sizing: border-box;text-align: center;}#sk-container-id-3 label.sk-toggleable__label-arrow:before {content: \"▸\";float: left;margin-right: 0.25em;color: #696969;}#sk-container-id-3 label.sk-toggleable__label-arrow:hover:before {color: black;}#sk-container-id-3 div.sk-estimator:hover label.sk-toggleable__label-arrow:before {color: black;}#sk-container-id-3 div.sk-toggleable__content {max-height: 0;max-width: 0;overflow: hidden;text-align: left;background-color: #f0f8ff;}#sk-container-id-3 div.sk-toggleable__content pre {margin: 0.2em;color: black;border-radius: 0.25em;background-color: #f0f8ff;}#sk-container-id-3 input.sk-toggleable__control:checked~div.sk-toggleable__content {max-height: 200px;max-width: 100%;overflow: auto;}#sk-container-id-3 input.sk-toggleable__control:checked~label.sk-toggleable__label-arrow:before {content: \"▾\";}#sk-container-id-3 div.sk-estimator input.sk-toggleable__control:checked~label.sk-toggleable__label {background-color: #d4ebff;}#sk-container-id-3 div.sk-label input.sk-toggleable__control:checked~label.sk-toggleable__label {background-color: #d4ebff;}#sk-container-id-3 input.sk-hidden--visually {border: 0;clip: rect(1px 1px 1px 1px);clip: rect(1px, 1px, 1px, 1px);height: 1px;margin: -1px;overflow: hidden;padding: 0;position: absolute;width: 1px;}#sk-container-id-3 div.sk-estimator {font-family: monospace;background-color: #f0f8ff;border: 1px dotted black;border-radius: 0.25em;box-sizing: border-box;margin-bottom: 0.5em;}#sk-container-id-3 div.sk-estimator:hover {background-color: #d4ebff;}#sk-container-id-3 div.sk-parallel-item::after {content: \"\";width: 100%;border-bottom: 1px solid gray;flex-grow: 1;}#sk-container-id-3 div.sk-label:hover label.sk-toggleable__label {background-color: #d4ebff;}#sk-container-id-3 div.sk-serial::before {content: \"\";position: absolute;border-left: 1px solid gray;box-sizing: border-box;top: 0;bottom: 0;left: 50%;z-index: 0;}#sk-container-id-3 div.sk-serial {display: flex;flex-direction: column;align-items: center;background-color: white;padding-right: 0.2em;padding-left: 0.2em;position: relative;}#sk-container-id-3 div.sk-item {position: relative;z-index: 1;}#sk-container-id-3 div.sk-parallel {display: flex;align-items: stretch;justify-content: center;background-color: white;position: relative;}#sk-container-id-3 div.sk-item::before, #sk-container-id-3 div.sk-parallel-item::before {content: \"\";position: absolute;border-left: 1px solid gray;box-sizing: border-box;top: 0;bottom: 0;left: 50%;z-index: -1;}#sk-container-id-3 div.sk-parallel-item {display: flex;flex-direction: column;z-index: 1;position: relative;background-color: white;}#sk-container-id-3 div.sk-parallel-item:first-child::after {align-self: flex-end;width: 50%;}#sk-container-id-3 div.sk-parallel-item:last-child::after {align-self: flex-start;width: 50%;}#sk-container-id-3 div.sk-parallel-item:only-child::after {width: 0;}#sk-container-id-3 div.sk-dashed-wrapped {border: 1px dashed gray;margin: 0 0.4em 0.5em 0.4em;box-sizing: border-box;padding-bottom: 0.4em;background-color: white;}#sk-container-id-3 div.sk-label label {font-family: monospace;font-weight: bold;display: inline-block;line-height: 1.2em;}#sk-container-id-3 div.sk-label-container {text-align: center;}#sk-container-id-3 div.sk-container {/* jupyter's `normalize.less` sets `[hidden] { display: none; }` but bootstrap.min.css set `[hidden] { display: none !important; }` so we also need the `!important` here to be able to override the default hidden behavior on the sphinx rendered scikit-learn.org. See: https://github.com/scikit-learn/scikit-learn/issues/21755 */display: inline-block !important;position: relative;}#sk-container-id-3 div.sk-text-repr-fallback {display: none;}</style><div id=\"sk-container-id-3\" class=\"sk-top-container\"><div class=\"sk-text-repr-fallback\"><pre>MLPClassifier(alpha=1e-05, hidden_layer_sizes=(12, 22, 35, 17),\n",
       "              learning_rate=&#x27;adaptive&#x27;, random_state=123, solver=&#x27;sgd&#x27;)</pre><b>In a Jupyter environment, please rerun this cell to show the HTML representation or trust the notebook. <br />On GitHub, the HTML representation is unable to render, please try loading this page with nbviewer.org.</b></div><div class=\"sk-container\" hidden><div class=\"sk-item\"><div class=\"sk-estimator sk-toggleable\"><input class=\"sk-toggleable__control sk-hidden--visually\" id=\"sk-estimator-id-3\" type=\"checkbox\" checked><label for=\"sk-estimator-id-3\" class=\"sk-toggleable__label sk-toggleable__label-arrow\">MLPClassifier</label><div class=\"sk-toggleable__content\"><pre>MLPClassifier(alpha=1e-05, hidden_layer_sizes=(12, 22, 35, 17),\n",
       "              learning_rate=&#x27;adaptive&#x27;, random_state=123, solver=&#x27;sgd&#x27;)</pre></div></div></div></div></div>"
      ],
      "text/plain": [
       "MLPClassifier(alpha=1e-05, hidden_layer_sizes=(12, 22, 35, 17),\n",
       "              learning_rate='adaptive', random_state=123, solver='sgd')"
      ]
     },
     "execution_count": 76,
     "metadata": {},
     "output_type": "execute_result"
    }
   ],
   "source": [
    "modelo3Modified2 = MLPClassifier(activation='relu',solver='sgd', alpha=1e-5,hidden_layer_sizes=(12,22,35,17), random_state=123, learning_rate='adaptive')\n",
    "modelo3Modified2.fit(X_train, y_train)"
   ]
  },
  {
   "cell_type": "code",
   "execution_count": 81,
   "id": "b6857aee",
   "metadata": {},
   "outputs": [
    {
     "name": "stdout",
     "output_type": "stream",
     "text": [
      "0.9814078345595546\n"
     ]
    }
   ],
   "source": [
    "y_pred2Mod3 = modelo3Modified2.predict(X_test)\n",
    "accM2=accuracy_score(y_test, y_pred2Mod3)\n",
    "print(accM2)"
   ]
  },
  {
   "cell_type": "markdown",
   "id": "c5c047ee",
   "metadata": {},
   "source": [
    "## Hacemos análisis de las _accuracies_ ¿Mejoraron o empeoraron?"
   ]
  },
  {
   "cell_type": "code",
   "execution_count": 88,
   "id": "fbbc360f",
   "metadata": {},
   "outputs": [
    {
     "name": "stdout",
     "output_type": "stream",
     "text": [
      "Primera modificación:  0.9168820839133028 \n",
      "Segunda Modificación:  0.9814078345595546 \n",
      "Valor Previo:  0.9822032213163651\n"
     ]
    }
   ],
   "source": [
    "print(\"Primera modificación: \", accM1, \"\\nSegunda Modificación: \", accM2,\"\\nValor Previo: \", accMod3)"
   ]
  },
  {
   "cell_type": "markdown",
   "id": "0e50c810",
   "metadata": {},
   "source": [
    "Como se puede notar con los valores previos, la implementación del hiperparámetro \"learning_rate\" tuvo un efecto negativo en la certeza del modelo, en el peor caso se disminuyó dicha certeza un ~6.53%, y en el otro caso un ~0.07%"
   ]
  }
 ],
 "metadata": {
  "kernelspec": {
   "display_name": "Python 3 (ipykernel)",
   "language": "python",
   "name": "python3"
  },
  "language_info": {
   "codemirror_mode": {
    "name": "ipython",
    "version": 3
   },
   "file_extension": ".py",
   "mimetype": "text/x-python",
   "name": "python",
   "nbconvert_exporter": "python",
   "pygments_lexer": "ipython3",
   "version": "3.9.12"
  }
 },
 "nbformat": 4,
 "nbformat_minor": 5
}
